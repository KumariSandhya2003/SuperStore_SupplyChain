{
 "cells": [
  {
   "cell_type": "markdown",
   "metadata": {},
   "source": [
    "# <span style=\"color:darkBlue\">Presented By: Sandhya Kumari</span>"
   ]
  },
  {
   "cell_type": "markdown",
   "metadata": {},
   "source": [
    "<!-- <h1 id=\"tocheading\">Table of Contents</h1> -->\n",
    "<!-- <div id=\"toc\"></div> -->"
   ]
  },
  {
   "cell_type": "markdown",
   "metadata": {},
   "source": [
    "<h2 id=\"tocheading\"><font color='darkblue'>Table of Contents</font></h2>\n",
    "<div id=\"toc\"></div>\n"
   ]
  },
  {
   "cell_type": "markdown",
   "metadata": {},
   "source": [
    "### Cruise to Superstore data to discover trends and insights:\n",
    "\n"
   ]
  },
  {
   "cell_type": "code",
   "execution_count": 91,
   "metadata": {},
   "outputs": [],
   "source": [
    "# Dependencies and Setup\n",
    "import matplotlib.pyplot as plt\n",
    "import pandas as pd\n",
    "import scipy.stats as sts\n",
    "import pandas as pd\n",
    "import numpy as np \n",
    "import warnings\n",
    "warnings.filterwarnings('ignore')\n",
    "import seaborn as sns"
   ]
  },
  {
   "cell_type": "code",
   "execution_count": 92,
   "metadata": {},
   "outputs": [
    {
     "data": {
      "application/javascript": [
       "$.getScript('https://kmahelona.github.io/ipython_notebook_goodies/ipython_notebook_toc.js')\n"
      ],
      "text/plain": [
       "<IPython.core.display.Javascript object>"
      ]
     },
     "metadata": {},
     "output_type": "display_data"
    }
   ],
   "source": [
    "%%javascript\n",
    "$.getScript('https://kmahelona.github.io/ipython_notebook_goodies/ipython_notebook_toc.js')"
   ]
  },
  {
   "cell_type": "code",
   "execution_count": 93,
   "metadata": {},
   "outputs": [],
   "source": [
    "\n",
    "# read GlobalSuperstoreOrders2016.excel file \n",
    "xls = pd.ExcelFile('SuperstoreOrders.xlsx')\n",
    "\n",
    "orders = pd.read_excel(xls, 'Orders')\n"
   ]
  },
  {
   "cell_type": "code",
   "execution_count": 94,
   "metadata": {},
   "outputs": [],
   "source": [
    "# used following code in terminal to convert jupyter notebook file to html to embed as html page\n",
    "#jupyter nbconvert  --to html  GlobalSuperStore.ipynb"
   ]
  },
  {
   "cell_type": "markdown",
   "metadata": {},
   "source": [
    "#### Order Data Info:"
   ]
  },
  {
   "cell_type": "code",
   "execution_count": 95,
   "metadata": {},
   "outputs": [
    {
     "data": {
      "text/plain": [
       "(9994, 21)"
      ]
     },
     "execution_count": 95,
     "metadata": {},
     "output_type": "execute_result"
    }
   ],
   "source": [
    "# checking the shape of the dataframe(rows,columns)\n",
    "orders.shape #(51290, 24)"
   ]
  },
  {
   "cell_type": "code",
   "execution_count": 96,
   "metadata": {},
   "outputs": [
    {
     "name": "stdout",
     "output_type": "stream",
     "text": [
      "<class 'pandas.core.frame.DataFrame'>\n",
      "RangeIndex: 9994 entries, 0 to 9993\n",
      "Data columns (total 21 columns):\n",
      "Row ID            9994 non-null int64\n",
      "Order ID          9994 non-null object\n",
      "Order Date        9994 non-null datetime64[ns]\n",
      "Ship Date         9994 non-null datetime64[ns]\n",
      "Ship Mode         9994 non-null object\n",
      "Customer ID       9994 non-null object\n",
      "Customer Name     9994 non-null object\n",
      "Segment           9994 non-null object\n",
      "Country/Region    9994 non-null object\n",
      "City              9994 non-null object\n",
      "State             9994 non-null object\n",
      "Postal Code       9983 non-null float64\n",
      "Region            9994 non-null object\n",
      "Product ID        9994 non-null object\n",
      "Category          9994 non-null object\n",
      "Sub-Category      9994 non-null object\n",
      "Product Name      9994 non-null object\n",
      "Sales             9994 non-null float64\n",
      "Quantity          9994 non-null int64\n",
      "Discount          9994 non-null float64\n",
      "Profit            9994 non-null float64\n",
      "dtypes: datetime64[ns](2), float64(4), int64(2), object(13)\n",
      "memory usage: 1.6+ MB\n"
     ]
    }
   ],
   "source": [
    "# checking full information \n",
    "orders.info()"
   ]
  },
  {
   "cell_type": "code",
   "execution_count": 97,
   "metadata": {},
   "outputs": [
    {
     "name": "stdout",
     "output_type": "stream",
     "text": [
      "<class 'pandas.core.frame.DataFrame'>\n",
      "RangeIndex: 9994 entries, 0 to 9993\n",
      "Data columns (total 21 columns):\n",
      "Row ID            9994 non-null int64\n",
      "Order ID          9994 non-null object\n",
      "Order Date        9994 non-null datetime64[ns]\n",
      "Ship Date         9994 non-null datetime64[ns]\n",
      "Ship Mode         9994 non-null object\n",
      "Customer ID       9994 non-null object\n",
      "Customer Name     9994 non-null object\n",
      "Segment           9994 non-null object\n",
      "Country/Region    9994 non-null object\n",
      "City              9994 non-null object\n",
      "State             9994 non-null object\n",
      "Postal Code       9983 non-null float64\n",
      "Region            9994 non-null object\n",
      "Product ID        9994 non-null object\n",
      "Category          9994 non-null object\n",
      "Sub-Category      9994 non-null object\n",
      "Product Name      9994 non-null object\n",
      "Sales             9994 non-null float64\n",
      "Quantity          9994 non-null int64\n",
      "Discount          9994 non-null float64\n",
      "Profit            9994 non-null float64\n",
      "dtypes: datetime64[ns](2), float64(4), int64(2), object(13)\n",
      "memory usage: 1.6+ MB\n"
     ]
    }
   ],
   "source": [
    "# let's see column names and their data types\n",
    "#orders.dtypes\n",
    "# all info about the data\n",
    "orders.info()"
   ]
  },
  {
   "cell_type": "code",
   "execution_count": 98,
   "metadata": {},
   "outputs": [
    {
     "data": {
      "text/plain": [
       "9994"
      ]
     },
     "execution_count": 98,
     "metadata": {},
     "output_type": "execute_result"
    }
   ],
   "source": [
    "# Number of orders:\n",
    "NumberOfOrders = orders[\"Order ID\"].count()\n",
    "NumberOfOrders"
   ]
  },
  {
   "cell_type": "code",
   "execution_count": 99,
   "metadata": {},
   "outputs": [
    {
     "data": {
      "text/html": [
       "<div>\n",
       "<style scoped>\n",
       "    .dataframe tbody tr th:only-of-type {\n",
       "        vertical-align: middle;\n",
       "    }\n",
       "\n",
       "    .dataframe tbody tr th {\n",
       "        vertical-align: top;\n",
       "    }\n",
       "\n",
       "    .dataframe thead th {\n",
       "        text-align: right;\n",
       "    }\n",
       "</style>\n",
       "<table border=\"1\" class=\"dataframe\">\n",
       "  <thead>\n",
       "    <tr style=\"text-align: right;\">\n",
       "      <th></th>\n",
       "      <th>Row ID</th>\n",
       "      <th>Order ID</th>\n",
       "      <th>Order Date</th>\n",
       "      <th>Ship Date</th>\n",
       "      <th>Ship Mode</th>\n",
       "      <th>Customer ID</th>\n",
       "      <th>Customer Name</th>\n",
       "      <th>Segment</th>\n",
       "      <th>Country/Region</th>\n",
       "      <th>City</th>\n",
       "      <th>...</th>\n",
       "      <th>Postal Code</th>\n",
       "      <th>Region</th>\n",
       "      <th>Product ID</th>\n",
       "      <th>Category</th>\n",
       "      <th>Sub-Category</th>\n",
       "      <th>Product Name</th>\n",
       "      <th>Sales</th>\n",
       "      <th>Quantity</th>\n",
       "      <th>Discount</th>\n",
       "      <th>Profit</th>\n",
       "    </tr>\n",
       "  </thead>\n",
       "  <tbody>\n",
       "    <tr>\n",
       "      <td>0</td>\n",
       "      <td>1</td>\n",
       "      <td>CA-2018-152156</td>\n",
       "      <td>2018-11-08</td>\n",
       "      <td>2018-11-11</td>\n",
       "      <td>Second Class</td>\n",
       "      <td>CG-12520</td>\n",
       "      <td>Claire Gute</td>\n",
       "      <td>Consumer</td>\n",
       "      <td>United States</td>\n",
       "      <td>Henderson</td>\n",
       "      <td>...</td>\n",
       "      <td>42420.0</td>\n",
       "      <td>South</td>\n",
       "      <td>FUR-BO-10001798</td>\n",
       "      <td>Furniture</td>\n",
       "      <td>Bookcases</td>\n",
       "      <td>Bush Somerset Collection Bookcase</td>\n",
       "      <td>261.96</td>\n",
       "      <td>2</td>\n",
       "      <td>0.0</td>\n",
       "      <td>41.9136</td>\n",
       "    </tr>\n",
       "    <tr>\n",
       "      <td>1</td>\n",
       "      <td>2</td>\n",
       "      <td>CA-2018-152156</td>\n",
       "      <td>2018-11-08</td>\n",
       "      <td>2018-11-11</td>\n",
       "      <td>Second Class</td>\n",
       "      <td>CG-12520</td>\n",
       "      <td>Claire Gute</td>\n",
       "      <td>Consumer</td>\n",
       "      <td>United States</td>\n",
       "      <td>Henderson</td>\n",
       "      <td>...</td>\n",
       "      <td>42420.0</td>\n",
       "      <td>South</td>\n",
       "      <td>FUR-CH-10000454</td>\n",
       "      <td>Furniture</td>\n",
       "      <td>Chairs</td>\n",
       "      <td>Hon Deluxe Fabric Upholstered Stacking Chairs,...</td>\n",
       "      <td>731.94</td>\n",
       "      <td>3</td>\n",
       "      <td>0.0</td>\n",
       "      <td>219.5820</td>\n",
       "    </tr>\n",
       "    <tr>\n",
       "      <td>2</td>\n",
       "      <td>3</td>\n",
       "      <td>CA-2018-138688</td>\n",
       "      <td>2018-06-12</td>\n",
       "      <td>2018-06-16</td>\n",
       "      <td>Second Class</td>\n",
       "      <td>DV-13045</td>\n",
       "      <td>Darrin Van Huff</td>\n",
       "      <td>Corporate</td>\n",
       "      <td>United States</td>\n",
       "      <td>Los Angeles</td>\n",
       "      <td>...</td>\n",
       "      <td>90036.0</td>\n",
       "      <td>West</td>\n",
       "      <td>OFF-LA-10000240</td>\n",
       "      <td>Office Supplies</td>\n",
       "      <td>Labels</td>\n",
       "      <td>Self-Adhesive Address Labels for Typewriters b...</td>\n",
       "      <td>14.62</td>\n",
       "      <td>2</td>\n",
       "      <td>0.0</td>\n",
       "      <td>6.8714</td>\n",
       "    </tr>\n",
       "  </tbody>\n",
       "</table>\n",
       "<p>3 rows × 21 columns</p>\n",
       "</div>"
      ],
      "text/plain": [
       "   Row ID        Order ID Order Date  Ship Date     Ship Mode Customer ID  \\\n",
       "0       1  CA-2018-152156 2018-11-08 2018-11-11  Second Class    CG-12520   \n",
       "1       2  CA-2018-152156 2018-11-08 2018-11-11  Second Class    CG-12520   \n",
       "2       3  CA-2018-138688 2018-06-12 2018-06-16  Second Class    DV-13045   \n",
       "\n",
       "     Customer Name    Segment Country/Region         City  ... Postal Code  \\\n",
       "0      Claire Gute   Consumer  United States    Henderson  ...     42420.0   \n",
       "1      Claire Gute   Consumer  United States    Henderson  ...     42420.0   \n",
       "2  Darrin Van Huff  Corporate  United States  Los Angeles  ...     90036.0   \n",
       "\n",
       "   Region       Product ID         Category Sub-Category  \\\n",
       "0   South  FUR-BO-10001798        Furniture    Bookcases   \n",
       "1   South  FUR-CH-10000454        Furniture       Chairs   \n",
       "2    West  OFF-LA-10000240  Office Supplies       Labels   \n",
       "\n",
       "                                        Product Name   Sales  Quantity  \\\n",
       "0                  Bush Somerset Collection Bookcase  261.96         2   \n",
       "1  Hon Deluxe Fabric Upholstered Stacking Chairs,...  731.94         3   \n",
       "2  Self-Adhesive Address Labels for Typewriters b...   14.62         2   \n",
       "\n",
       "   Discount    Profit  \n",
       "0       0.0   41.9136  \n",
       "1       0.0  219.5820  \n",
       "2       0.0    6.8714  \n",
       "\n",
       "[3 rows x 21 columns]"
      ]
     },
     "execution_count": 99,
     "metadata": {},
     "output_type": "execute_result"
    }
   ],
   "source": [
    "orders[:3]"
   ]
  },
  {
   "cell_type": "code",
   "execution_count": 100,
   "metadata": {},
   "outputs": [
    {
     "data": {
      "text/plain": [
       "Row ID             0\n",
       "Order ID           0\n",
       "Order Date         0\n",
       "Ship Date          0\n",
       "Ship Mode          0\n",
       "Customer ID        0\n",
       "Customer Name      0\n",
       "Segment            0\n",
       "Country/Region     0\n",
       "City               0\n",
       "State              0\n",
       "Postal Code       11\n",
       "Region             0\n",
       "Product ID         0\n",
       "Category           0\n",
       "Sub-Category       0\n",
       "Product Name       0\n",
       "Sales              0\n",
       "Quantity           0\n",
       "Discount           0\n",
       "Profit             0\n",
       "dtype: int64"
      ]
     },
     "execution_count": 100,
     "metadata": {},
     "output_type": "execute_result"
    }
   ],
   "source": [
    "# Let's check columns with missing values\n",
    "nulls = orders.isnull().sum()\n",
    "#nulls[nulls > 0]\n",
    "nulls"
   ]
  },
  {
   "cell_type": "code",
   "execution_count": 101,
   "metadata": {},
   "outputs": [
    {
     "data": {
      "text/html": [
       "<div>\n",
       "<style scoped>\n",
       "    .dataframe tbody tr th:only-of-type {\n",
       "        vertical-align: middle;\n",
       "    }\n",
       "\n",
       "    .dataframe tbody tr th {\n",
       "        vertical-align: top;\n",
       "    }\n",
       "\n",
       "    .dataframe thead th {\n",
       "        text-align: right;\n",
       "    }\n",
       "</style>\n",
       "<table border=\"1\" class=\"dataframe\">\n",
       "  <thead>\n",
       "    <tr style=\"text-align: right;\">\n",
       "      <th></th>\n",
       "      <th>Row ID</th>\n",
       "      <th>Order ID</th>\n",
       "      <th>Order Date</th>\n",
       "      <th>Ship Date</th>\n",
       "      <th>Ship Mode</th>\n",
       "      <th>Customer ID</th>\n",
       "      <th>Customer Name</th>\n",
       "      <th>Segment</th>\n",
       "      <th>Country/Region</th>\n",
       "      <th>City</th>\n",
       "      <th>...</th>\n",
       "      <th>Postal Code</th>\n",
       "      <th>Region</th>\n",
       "      <th>Product ID</th>\n",
       "      <th>Category</th>\n",
       "      <th>Sub-Category</th>\n",
       "      <th>Product Name</th>\n",
       "      <th>Sales</th>\n",
       "      <th>Quantity</th>\n",
       "      <th>Discount</th>\n",
       "      <th>Profit</th>\n",
       "    </tr>\n",
       "  </thead>\n",
       "  <tbody>\n",
       "  </tbody>\n",
       "</table>\n",
       "<p>0 rows × 21 columns</p>\n",
       "</div>"
      ],
      "text/plain": [
       "Empty DataFrame\n",
       "Columns: [Row ID, Order ID, Order Date, Ship Date, Ship Mode, Customer ID, Customer Name, Segment, Country/Region, City, State, Postal Code, Region, Product ID, Category, Sub-Category, Product Name, Sales, Quantity, Discount, Profit]\n",
       "Index: []\n",
       "\n",
       "[0 rows x 21 columns]"
      ]
     },
     "execution_count": 101,
     "metadata": {},
     "output_type": "execute_result"
    }
   ],
   "source": [
    "# check for any duplicate\n",
    "duplicates = orders[orders.duplicated()]\n",
    "duplicates # no duplicate row"
   ]
  },
  {
   "cell_type": "code",
   "execution_count": 102,
   "metadata": {},
   "outputs": [
    {
     "data": {
      "text/html": [
       "<div>\n",
       "<style scoped>\n",
       "    .dataframe tbody tr th:only-of-type {\n",
       "        vertical-align: middle;\n",
       "    }\n",
       "\n",
       "    .dataframe tbody tr th {\n",
       "        vertical-align: top;\n",
       "    }\n",
       "\n",
       "    .dataframe thead th {\n",
       "        text-align: right;\n",
       "    }\n",
       "</style>\n",
       "<table border=\"1\" class=\"dataframe\">\n",
       "  <thead>\n",
       "    <tr style=\"text-align: right;\">\n",
       "      <th></th>\n",
       "      <th>Row ID</th>\n",
       "      <th>Postal Code</th>\n",
       "      <th>Sales</th>\n",
       "      <th>Quantity</th>\n",
       "      <th>Discount</th>\n",
       "      <th>Profit</th>\n",
       "    </tr>\n",
       "  </thead>\n",
       "  <tbody>\n",
       "    <tr>\n",
       "      <td>count</td>\n",
       "      <td>9994.000000</td>\n",
       "      <td>9983.000000</td>\n",
       "      <td>9994.000000</td>\n",
       "      <td>9994.000000</td>\n",
       "      <td>9994.000000</td>\n",
       "      <td>9994.000000</td>\n",
       "    </tr>\n",
       "    <tr>\n",
       "      <td>mean</td>\n",
       "      <td>4997.500000</td>\n",
       "      <td>55245.233297</td>\n",
       "      <td>229.858001</td>\n",
       "      <td>3.789574</td>\n",
       "      <td>0.156203</td>\n",
       "      <td>28.656896</td>\n",
       "    </tr>\n",
       "    <tr>\n",
       "      <td>std</td>\n",
       "      <td>2885.163629</td>\n",
       "      <td>32038.715955</td>\n",
       "      <td>623.245101</td>\n",
       "      <td>2.225110</td>\n",
       "      <td>0.206452</td>\n",
       "      <td>234.260108</td>\n",
       "    </tr>\n",
       "    <tr>\n",
       "      <td>min</td>\n",
       "      <td>1.000000</td>\n",
       "      <td>1040.000000</td>\n",
       "      <td>0.444000</td>\n",
       "      <td>1.000000</td>\n",
       "      <td>0.000000</td>\n",
       "      <td>-6599.978000</td>\n",
       "    </tr>\n",
       "    <tr>\n",
       "      <td>25%</td>\n",
       "      <td>2499.250000</td>\n",
       "      <td>23223.000000</td>\n",
       "      <td>17.280000</td>\n",
       "      <td>2.000000</td>\n",
       "      <td>0.000000</td>\n",
       "      <td>1.728750</td>\n",
       "    </tr>\n",
       "    <tr>\n",
       "      <td>50%</td>\n",
       "      <td>4997.500000</td>\n",
       "      <td>57103.000000</td>\n",
       "      <td>54.490000</td>\n",
       "      <td>3.000000</td>\n",
       "      <td>0.200000</td>\n",
       "      <td>8.666500</td>\n",
       "    </tr>\n",
       "    <tr>\n",
       "      <td>75%</td>\n",
       "      <td>7495.750000</td>\n",
       "      <td>90008.000000</td>\n",
       "      <td>209.940000</td>\n",
       "      <td>5.000000</td>\n",
       "      <td>0.200000</td>\n",
       "      <td>29.364000</td>\n",
       "    </tr>\n",
       "    <tr>\n",
       "      <td>max</td>\n",
       "      <td>9994.000000</td>\n",
       "      <td>99301.000000</td>\n",
       "      <td>22638.480000</td>\n",
       "      <td>14.000000</td>\n",
       "      <td>0.800000</td>\n",
       "      <td>8399.976000</td>\n",
       "    </tr>\n",
       "  </tbody>\n",
       "</table>\n",
       "</div>"
      ],
      "text/plain": [
       "            Row ID   Postal Code         Sales     Quantity     Discount  \\\n",
       "count  9994.000000   9983.000000   9994.000000  9994.000000  9994.000000   \n",
       "mean   4997.500000  55245.233297    229.858001     3.789574     0.156203   \n",
       "std    2885.163629  32038.715955    623.245101     2.225110     0.206452   \n",
       "min       1.000000   1040.000000      0.444000     1.000000     0.000000   \n",
       "25%    2499.250000  23223.000000     17.280000     2.000000     0.000000   \n",
       "50%    4997.500000  57103.000000     54.490000     3.000000     0.200000   \n",
       "75%    7495.750000  90008.000000    209.940000     5.000000     0.200000   \n",
       "max    9994.000000  99301.000000  22638.480000    14.000000     0.800000   \n",
       "\n",
       "            Profit  \n",
       "count  9994.000000  \n",
       "mean     28.656896  \n",
       "std     234.260108  \n",
       "min   -6599.978000  \n",
       "25%       1.728750  \n",
       "50%       8.666500  \n",
       "75%      29.364000  \n",
       "max    8399.976000  "
      ]
     },
     "execution_count": 102,
     "metadata": {},
     "output_type": "execute_result"
    }
   ],
   "source": [
    "# descriptive statistics for 'numeric' columns\n",
    "orders.describe()"
   ]
  },
  {
   "cell_type": "code",
   "execution_count": 103,
   "metadata": {},
   "outputs": [
    {
     "data": {
      "text/plain": [
       "Binders        1523\n",
       "Paper          1370\n",
       "Furnishings     957\n",
       "Phones          889\n",
       "Storage         846\n",
       "Art             796\n",
       "Accessories     775\n",
       "Chairs          617\n",
       "Appliances      466\n",
       "Labels          364\n",
       "Tables          319\n",
       "Envelopes       254\n",
       "Bookcases       228\n",
       "Fasteners       217\n",
       "Supplies        190\n",
       "Machines        115\n",
       "Copiers          68\n",
       "Name: Sub-Category, dtype: int64"
      ]
     },
     "execution_count": 103,
     "metadata": {},
     "output_type": "execute_result"
    }
   ],
   "source": [
    "# Display all categorical columns\n",
    "categ = orders['Sub-Category'].value_counts()\n",
    "categ"
   ]
  },
  {
   "cell_type": "code",
   "execution_count": 104,
   "metadata": {},
   "outputs": [],
   "source": [
    "# let's drop non-informative columns including postal code they aren't providing any insight\n",
    "df = orders.drop(['Postal Code', 'Order ID',\"Customer ID\",\"Row ID\", \"Product ID\"], axis=1)"
   ]
  },
  {
   "cell_type": "markdown",
   "metadata": {},
   "source": [
    "### Step 2: Exploratory Data Analysis\n",
    "#### (i) Distribution of Numeric Variables"
   ]
  },
  {
   "cell_type": "code",
   "execution_count": 105,
   "metadata": {},
   "outputs": [
    {
     "name": "stdout",
     "output_type": "stream",
     "text": [
      "<class 'pandas.core.frame.DataFrame'>\n",
      "RangeIndex: 9994 entries, 0 to 9993\n",
      "Data columns (total 10 columns):\n",
      "Ship Mode         9994 non-null object\n",
      "Customer Name     9994 non-null object\n",
      "Segment           9994 non-null object\n",
      "Country/Region    9994 non-null object\n",
      "City              9994 non-null object\n",
      "State             9994 non-null object\n",
      "Region            9994 non-null object\n",
      "Category          9994 non-null object\n",
      "Sub-Category      9994 non-null object\n",
      "Product Name      9994 non-null object\n",
      "dtypes: object(10)\n",
      "memory usage: 780.9+ KB\n"
     ]
    }
   ],
   "source": [
    "# creating a data frame using all categorical variables\n",
    "obj_df = df.select_dtypes(include=['object']).copy()\n",
    "obj_df.info()"
   ]
  },
  {
   "cell_type": "code",
   "execution_count": 106,
   "metadata": {},
   "outputs": [
    {
     "data": {
      "text/plain": [
       "<matplotlib.axes._subplots.AxesSubplot at 0x1b841163988>"
      ]
     },
     "execution_count": 106,
     "metadata": {},
     "output_type": "execute_result"
    },
    {
     "data": {
      "image/png": "[encoded data removed]",
      "text/plain": [
       "<Figure size 1080x720 with 1 Axes>"
      ]
     },
     "metadata": {
      "needs_background": "light"
     },
     "output_type": "display_data"
    }
   ],
   "source": [
    "plt.rcParams['figure.figsize']=(15,10)\n",
    "sns.countplot(x='Category', data=df)\n",
    "# g.fig.set_size_inches(15,15)"
   ]
  },
  {
   "cell_type": "code",
   "execution_count": 107,
   "metadata": {},
   "outputs": [
    {
     "data": {
      "text/plain": [
       "<matplotlib.axes._subplots.AxesSubplot at 0x1b841177688>"
      ]
     },
     "execution_count": 107,
     "metadata": {},
     "output_type": "execute_result"
    },
    {
     "data": {
      "image/png": "[encoded data removed]",
      "text/plain": [
       "<Figure size 1440x720 with 1 Axes>"
      ]
     },
     "metadata": {
      "needs_background": "light"
     },
     "output_type": "display_data"
    }
   ],
   "source": [
    "# plotting using seaborn library\n",
    "# sns.countplot(x='Ship Mode', data=df)\n",
    "# sns.countplot(x='Segment', data=df)\n",
    "# sns.countplot(x='Category', data=df)\n",
    "# sns.countplot(x='Sub-Category', data=df)\n",
    "#let's check Sales by segment \n",
    "plt.rcParams['figure.figsize']=(20,10)\n",
    "sns.boxplot(y='Sales', x='Segment', data=df, hue=\"Segment\")"
   ]
  },
  {
   "cell_type": "code",
   "execution_count": 108,
   "metadata": {},
   "outputs": [
    {
     "data": {
      "text/plain": [
       "<matplotlib.axes._subplots.AxesSubplot at 0x1b83f075cc8>"
      ]
     },
     "execution_count": 108,
     "metadata": {},
     "output_type": "execute_result"
    },
    {
     "data": {
      "image/png": "[encoded data removed]",
      "text/plain": [
       "<Figure size 1440x720 with 1 Axes>"
      ]
     },
     "metadata": {
      "needs_background": "light"
     },
     "output_type": "display_data"
    }
   ],
   "source": [
    "#let's check category versus profit\n",
    "plt.rcParams['figure.figsize']=(20,10)\n",
    "sns.boxplot(y='Sales', x='Category', data=df, hue=\"Category\")"
   ]
  },
  {
   "cell_type": "code",
   "execution_count": 109,
   "metadata": {},
   "outputs": [
    {
     "data": {
      "image/png": "[encoded data removed]",
      "text/plain": [
       "<Figure size 470.875x360 with 1 Axes>"
      ]
     },
     "metadata": {
      "needs_background": "light"
     },
     "output_type": "display_data"
    }
   ],
   "source": [
    "#let's check Sales versus profit in each category\n",
    "#plt.rcParams['figure.figsize']=(30,10)\n",
    "# plt.figure(figsize=(45,10))\n",
    "#sns.boxplot(y='Profit', x='Category', data=df, hue=\"Category\")\n",
    "sns.relplot(x=\"Profit\", y=\"Sales\", hue=\"Category\", data=df, sizes=(50,20));\n"
   ]
  },
  {
   "cell_type": "code",
   "execution_count": 110,
   "metadata": {},
   "outputs": [
    {
     "data": {
      "text/html": [
       "<div>\n",
       "<style scoped>\n",
       "    .dataframe tbody tr th:only-of-type {\n",
       "        vertical-align: middle;\n",
       "    }\n",
       "\n",
       "    .dataframe tbody tr th {\n",
       "        vertical-align: top;\n",
       "    }\n",
       "\n",
       "    .dataframe thead th {\n",
       "        text-align: right;\n",
       "    }\n",
       "</style>\n",
       "<table border=\"1\" class=\"dataframe\">\n",
       "  <thead>\n",
       "    <tr style=\"text-align: right;\">\n",
       "      <th></th>\n",
       "      <th>Order Date</th>\n",
       "      <th>Ship Date</th>\n",
       "      <th>Ship Mode</th>\n",
       "      <th>Customer Name</th>\n",
       "      <th>Segment</th>\n",
       "      <th>Country/Region</th>\n",
       "      <th>City</th>\n",
       "      <th>State</th>\n",
       "      <th>Region</th>\n",
       "      <th>Category</th>\n",
       "      <th>Sub-Category</th>\n",
       "      <th>Product Name</th>\n",
       "      <th>Sales</th>\n",
       "      <th>Quantity</th>\n",
       "      <th>Discount</th>\n",
       "      <th>Profit</th>\n",
       "      <th>Profit/Loss</th>\n",
       "    </tr>\n",
       "  </thead>\n",
       "  <tbody>\n",
       "    <tr>\n",
       "      <td>0</td>\n",
       "      <td>2018-11-08</td>\n",
       "      <td>2018-11-11</td>\n",
       "      <td>Second Class</td>\n",
       "      <td>Claire Gute</td>\n",
       "      <td>Consumer</td>\n",
       "      <td>United States</td>\n",
       "      <td>Henderson</td>\n",
       "      <td>Kentucky</td>\n",
       "      <td>South</td>\n",
       "      <td>Furniture</td>\n",
       "      <td>Bookcases</td>\n",
       "      <td>Bush Somerset Collection Bookcase</td>\n",
       "      <td>261.9600</td>\n",
       "      <td>2</td>\n",
       "      <td>0.00</td>\n",
       "      <td>41.9136</td>\n",
       "      <td>Good Profit</td>\n",
       "    </tr>\n",
       "    <tr>\n",
       "      <td>1</td>\n",
       "      <td>2018-11-08</td>\n",
       "      <td>2018-11-11</td>\n",
       "      <td>Second Class</td>\n",
       "      <td>Claire Gute</td>\n",
       "      <td>Consumer</td>\n",
       "      <td>United States</td>\n",
       "      <td>Henderson</td>\n",
       "      <td>Kentucky</td>\n",
       "      <td>South</td>\n",
       "      <td>Furniture</td>\n",
       "      <td>Chairs</td>\n",
       "      <td>Hon Deluxe Fabric Upholstered Stacking Chairs,...</td>\n",
       "      <td>731.9400</td>\n",
       "      <td>3</td>\n",
       "      <td>0.00</td>\n",
       "      <td>219.5820</td>\n",
       "      <td>Great Profit</td>\n",
       "    </tr>\n",
       "    <tr>\n",
       "      <td>2</td>\n",
       "      <td>2018-06-12</td>\n",
       "      <td>2018-06-16</td>\n",
       "      <td>Second Class</td>\n",
       "      <td>Darrin Van Huff</td>\n",
       "      <td>Corporate</td>\n",
       "      <td>United States</td>\n",
       "      <td>Los Angeles</td>\n",
       "      <td>California</td>\n",
       "      <td>West</td>\n",
       "      <td>Office Supplies</td>\n",
       "      <td>Labels</td>\n",
       "      <td>Self-Adhesive Address Labels for Typewriters b...</td>\n",
       "      <td>14.6200</td>\n",
       "      <td>2</td>\n",
       "      <td>0.00</td>\n",
       "      <td>6.8714</td>\n",
       "      <td>Good Profit</td>\n",
       "    </tr>\n",
       "    <tr>\n",
       "      <td>3</td>\n",
       "      <td>2017-10-11</td>\n",
       "      <td>2017-10-18</td>\n",
       "      <td>Standard Class</td>\n",
       "      <td>Sean O'Donnell</td>\n",
       "      <td>Consumer</td>\n",
       "      <td>United States</td>\n",
       "      <td>Fort Lauderdale</td>\n",
       "      <td>Florida</td>\n",
       "      <td>South</td>\n",
       "      <td>Furniture</td>\n",
       "      <td>Tables</td>\n",
       "      <td>Bretford CR4500 Series Slim Rectangular Table</td>\n",
       "      <td>957.5775</td>\n",
       "      <td>5</td>\n",
       "      <td>0.45</td>\n",
       "      <td>-383.0310</td>\n",
       "      <td>Loss</td>\n",
       "    </tr>\n",
       "    <tr>\n",
       "      <td>4</td>\n",
       "      <td>2017-10-11</td>\n",
       "      <td>2017-10-18</td>\n",
       "      <td>Standard Class</td>\n",
       "      <td>Sean O'Donnell</td>\n",
       "      <td>Consumer</td>\n",
       "      <td>United States</td>\n",
       "      <td>Fort Lauderdale</td>\n",
       "      <td>Florida</td>\n",
       "      <td>South</td>\n",
       "      <td>Office Supplies</td>\n",
       "      <td>Storage</td>\n",
       "      <td>Eldon Fold 'N Roll Cart System</td>\n",
       "      <td>22.3680</td>\n",
       "      <td>2</td>\n",
       "      <td>0.20</td>\n",
       "      <td>2.5164</td>\n",
       "      <td>Good Profit</td>\n",
       "    </tr>\n",
       "    <tr>\n",
       "      <td>...</td>\n",
       "      <td>...</td>\n",
       "      <td>...</td>\n",
       "      <td>...</td>\n",
       "      <td>...</td>\n",
       "      <td>...</td>\n",
       "      <td>...</td>\n",
       "      <td>...</td>\n",
       "      <td>...</td>\n",
       "      <td>...</td>\n",
       "      <td>...</td>\n",
       "      <td>...</td>\n",
       "      <td>...</td>\n",
       "      <td>...</td>\n",
       "      <td>...</td>\n",
       "      <td>...</td>\n",
       "      <td>...</td>\n",
       "      <td>...</td>\n",
       "    </tr>\n",
       "    <tr>\n",
       "      <td>9989</td>\n",
       "      <td>2016-01-21</td>\n",
       "      <td>2016-01-23</td>\n",
       "      <td>Second Class</td>\n",
       "      <td>Tom Boeckenhauer</td>\n",
       "      <td>Consumer</td>\n",
       "      <td>United States</td>\n",
       "      <td>Miami</td>\n",
       "      <td>Florida</td>\n",
       "      <td>South</td>\n",
       "      <td>Furniture</td>\n",
       "      <td>Furnishings</td>\n",
       "      <td>Ultra Door Pull Handle</td>\n",
       "      <td>25.2480</td>\n",
       "      <td>3</td>\n",
       "      <td>0.20</td>\n",
       "      <td>4.1028</td>\n",
       "      <td>Good Profit</td>\n",
       "    </tr>\n",
       "    <tr>\n",
       "      <td>9990</td>\n",
       "      <td>2019-02-26</td>\n",
       "      <td>2019-03-03</td>\n",
       "      <td>Standard Class</td>\n",
       "      <td>Dave Brooks</td>\n",
       "      <td>Consumer</td>\n",
       "      <td>United States</td>\n",
       "      <td>Costa Mesa</td>\n",
       "      <td>California</td>\n",
       "      <td>West</td>\n",
       "      <td>Furniture</td>\n",
       "      <td>Furnishings</td>\n",
       "      <td>Tenex B1-RE Series Chair Mats for Low Pile Car...</td>\n",
       "      <td>91.9600</td>\n",
       "      <td>2</td>\n",
       "      <td>0.00</td>\n",
       "      <td>15.6332</td>\n",
       "      <td>Good Profit</td>\n",
       "    </tr>\n",
       "    <tr>\n",
       "      <td>9991</td>\n",
       "      <td>2019-02-26</td>\n",
       "      <td>2019-03-03</td>\n",
       "      <td>Standard Class</td>\n",
       "      <td>Dave Brooks</td>\n",
       "      <td>Consumer</td>\n",
       "      <td>United States</td>\n",
       "      <td>Costa Mesa</td>\n",
       "      <td>California</td>\n",
       "      <td>West</td>\n",
       "      <td>Technology</td>\n",
       "      <td>Phones</td>\n",
       "      <td>Aastra 57i VoIP phone</td>\n",
       "      <td>258.5760</td>\n",
       "      <td>2</td>\n",
       "      <td>0.20</td>\n",
       "      <td>19.3932</td>\n",
       "      <td>Good Profit</td>\n",
       "    </tr>\n",
       "    <tr>\n",
       "      <td>9992</td>\n",
       "      <td>2019-02-26</td>\n",
       "      <td>2019-03-03</td>\n",
       "      <td>Standard Class</td>\n",
       "      <td>Dave Brooks</td>\n",
       "      <td>Consumer</td>\n",
       "      <td>United States</td>\n",
       "      <td>Costa Mesa</td>\n",
       "      <td>California</td>\n",
       "      <td>West</td>\n",
       "      <td>Office Supplies</td>\n",
       "      <td>Paper</td>\n",
       "      <td>It's Hot Message Books with Stickers, 2 3/4\" x 5\"</td>\n",
       "      <td>29.6000</td>\n",
       "      <td>4</td>\n",
       "      <td>0.00</td>\n",
       "      <td>13.3200</td>\n",
       "      <td>Good Profit</td>\n",
       "    </tr>\n",
       "    <tr>\n",
       "      <td>9993</td>\n",
       "      <td>2019-05-04</td>\n",
       "      <td>2019-05-09</td>\n",
       "      <td>Second Class</td>\n",
       "      <td>Chris Cortes</td>\n",
       "      <td>Consumer</td>\n",
       "      <td>United States</td>\n",
       "      <td>Westminster</td>\n",
       "      <td>California</td>\n",
       "      <td>West</td>\n",
       "      <td>Office Supplies</td>\n",
       "      <td>Appliances</td>\n",
       "      <td>Acco 7-Outlet Masterpiece Power Center, Wihtou...</td>\n",
       "      <td>243.1600</td>\n",
       "      <td>2</td>\n",
       "      <td>0.00</td>\n",
       "      <td>72.9480</td>\n",
       "      <td>Good Profit</td>\n",
       "    </tr>\n",
       "  </tbody>\n",
       "</table>\n",
       "<p>9994 rows × 17 columns</p>\n",
       "</div>"
      ],
      "text/plain": [
       "     Order Date  Ship Date       Ship Mode     Customer Name    Segment  \\\n",
       "0    2018-11-08 2018-11-11    Second Class       Claire Gute   Consumer   \n",
       "1    2018-11-08 2018-11-11    Second Class       Claire Gute   Consumer   \n",
       "2    2018-06-12 2018-06-16    Second Class   Darrin Van Huff  Corporate   \n",
       "3    2017-10-11 2017-10-18  Standard Class    Sean O'Donnell   Consumer   \n",
       "4    2017-10-11 2017-10-18  Standard Class    Sean O'Donnell   Consumer   \n",
       "...         ...        ...             ...               ...        ...   \n",
       "9989 2016-01-21 2016-01-23    Second Class  Tom Boeckenhauer   Consumer   \n",
       "9990 2019-02-26 2019-03-03  Standard Class       Dave Brooks   Consumer   \n",
       "9991 2019-02-26 2019-03-03  Standard Class       Dave Brooks   Consumer   \n",
       "9992 2019-02-26 2019-03-03  Standard Class       Dave Brooks   Consumer   \n",
       "9993 2019-05-04 2019-05-09    Second Class      Chris Cortes   Consumer   \n",
       "\n",
       "     Country/Region             City       State Region         Category  \\\n",
       "0     United States        Henderson    Kentucky  South        Furniture   \n",
       "1     United States        Henderson    Kentucky  South        Furniture   \n",
       "2     United States      Los Angeles  California   West  Office Supplies   \n",
       "3     United States  Fort Lauderdale     Florida  South        Furniture   \n",
       "4     United States  Fort Lauderdale     Florida  South  Office Supplies   \n",
       "...             ...              ...         ...    ...              ...   \n",
       "9989  United States            Miami     Florida  South        Furniture   \n",
       "9990  United States       Costa Mesa  California   West        Furniture   \n",
       "9991  United States       Costa Mesa  California   West       Technology   \n",
       "9992  United States       Costa Mesa  California   West  Office Supplies   \n",
       "9993  United States      Westminster  California   West  Office Supplies   \n",
       "\n",
       "     Sub-Category                                       Product Name  \\\n",
       "0       Bookcases                  Bush Somerset Collection Bookcase   \n",
       "1          Chairs  Hon Deluxe Fabric Upholstered Stacking Chairs,...   \n",
       "2          Labels  Self-Adhesive Address Labels for Typewriters b...   \n",
       "3          Tables      Bretford CR4500 Series Slim Rectangular Table   \n",
       "4         Storage                     Eldon Fold 'N Roll Cart System   \n",
       "...           ...                                                ...   \n",
       "9989  Furnishings                             Ultra Door Pull Handle   \n",
       "9990  Furnishings  Tenex B1-RE Series Chair Mats for Low Pile Car...   \n",
       "9991       Phones                              Aastra 57i VoIP phone   \n",
       "9992        Paper  It's Hot Message Books with Stickers, 2 3/4\" x 5\"   \n",
       "9993   Appliances  Acco 7-Outlet Masterpiece Power Center, Wihtou...   \n",
       "\n",
       "         Sales  Quantity  Discount    Profit   Profit/Loss  \n",
       "0     261.9600         2      0.00   41.9136   Good Profit  \n",
       "1     731.9400         3      0.00  219.5820  Great Profit  \n",
       "2      14.6200         2      0.00    6.8714   Good Profit  \n",
       "3     957.5775         5      0.45 -383.0310          Loss  \n",
       "4      22.3680         2      0.20    2.5164   Good Profit  \n",
       "...        ...       ...       ...       ...           ...  \n",
       "9989   25.2480         3      0.20    4.1028   Good Profit  \n",
       "9990   91.9600         2      0.00   15.6332   Good Profit  \n",
       "9991  258.5760         2      0.20   19.3932   Good Profit  \n",
       "9992   29.6000         4      0.00   13.3200   Good Profit  \n",
       "9993  243.1600         2      0.00   72.9480   Good Profit  \n",
       "\n",
       "[9994 rows x 17 columns]"
      ]
     },
     "execution_count": 110,
     "metadata": {},
     "output_type": "execute_result"
    }
   ],
   "source": [
    "# creating a new column based on existing profit column\n",
    "df['Profit/Loss'] = 'Great Profit'\n",
    "df.loc[(df['Profit'] > 0) & (df['Profit'] <= 200), 'Profit/Loss'] = 'Good Profit'\n",
    "df.loc[(df['Profit'] <= 0) ,'Profit/Loss'] = 'Loss'\n",
    "df"
   ]
  },
  {
   "cell_type": "code",
   "execution_count": 111,
   "metadata": {},
   "outputs": [
    {
     "data": {
      "image/png": "[encoded data removed]",
      "text/plain": [
       "<Figure size 453.625x360 with 1 Axes>"
      ]
     },
     "metadata": {
      "needs_background": "light"
     },
     "output_type": "display_data"
    }
   ],
   "source": [
    "# let's check distribution of profit and loss \n",
    "sns.relplot(x=\"Profit\", y=\"Sales\", hue=\"Profit/Loss\",style = 'Profit/Loss', data=df, sizes = (45,15));\n"
   ]
  },
  {
   "cell_type": "code",
   "execution_count": 112,
   "metadata": {},
   "outputs": [
    {
     "data": {
      "text/html": [
       "<div>\n",
       "<style scoped>\n",
       "    .dataframe tbody tr th:only-of-type {\n",
       "        vertical-align: middle;\n",
       "    }\n",
       "\n",
       "    .dataframe tbody tr th {\n",
       "        vertical-align: top;\n",
       "    }\n",
       "\n",
       "    .dataframe thead th {\n",
       "        text-align: right;\n",
       "    }\n",
       "</style>\n",
       "<table border=\"1\" class=\"dataframe\">\n",
       "  <thead>\n",
       "    <tr style=\"text-align: right;\">\n",
       "      <th></th>\n",
       "      <th>Sales</th>\n",
       "      <th>Quantity</th>\n",
       "      <th>Discount</th>\n",
       "      <th>Profit</th>\n",
       "    </tr>\n",
       "  </thead>\n",
       "  <tbody>\n",
       "    <tr>\n",
       "      <td>count</td>\n",
       "      <td>9994.000000</td>\n",
       "      <td>9994.000000</td>\n",
       "      <td>9994.000000</td>\n",
       "      <td>9994.000000</td>\n",
       "    </tr>\n",
       "    <tr>\n",
       "      <td>mean</td>\n",
       "      <td>229.858001</td>\n",
       "      <td>3.789574</td>\n",
       "      <td>0.156203</td>\n",
       "      <td>28.656896</td>\n",
       "    </tr>\n",
       "    <tr>\n",
       "      <td>std</td>\n",
       "      <td>623.245101</td>\n",
       "      <td>2.225110</td>\n",
       "      <td>0.206452</td>\n",
       "      <td>234.260108</td>\n",
       "    </tr>\n",
       "    <tr>\n",
       "      <td>min</td>\n",
       "      <td>0.444000</td>\n",
       "      <td>1.000000</td>\n",
       "      <td>0.000000</td>\n",
       "      <td>-6599.978000</td>\n",
       "    </tr>\n",
       "    <tr>\n",
       "      <td>25%</td>\n",
       "      <td>17.280000</td>\n",
       "      <td>2.000000</td>\n",
       "      <td>0.000000</td>\n",
       "      <td>1.728750</td>\n",
       "    </tr>\n",
       "    <tr>\n",
       "      <td>50%</td>\n",
       "      <td>54.490000</td>\n",
       "      <td>3.000000</td>\n",
       "      <td>0.200000</td>\n",
       "      <td>8.666500</td>\n",
       "    </tr>\n",
       "    <tr>\n",
       "      <td>75%</td>\n",
       "      <td>209.940000</td>\n",
       "      <td>5.000000</td>\n",
       "      <td>0.200000</td>\n",
       "      <td>29.364000</td>\n",
       "    </tr>\n",
       "    <tr>\n",
       "      <td>max</td>\n",
       "      <td>22638.480000</td>\n",
       "      <td>14.000000</td>\n",
       "      <td>0.800000</td>\n",
       "      <td>8399.976000</td>\n",
       "    </tr>\n",
       "  </tbody>\n",
       "</table>\n",
       "</div>"
      ],
      "text/plain": [
       "              Sales     Quantity     Discount       Profit\n",
       "count   9994.000000  9994.000000  9994.000000  9994.000000\n",
       "mean     229.858001     3.789574     0.156203    28.656896\n",
       "std      623.245101     2.225110     0.206452   234.260108\n",
       "min        0.444000     1.000000     0.000000 -6599.978000\n",
       "25%       17.280000     2.000000     0.000000     1.728750\n",
       "50%       54.490000     3.000000     0.200000     8.666500\n",
       "75%      209.940000     5.000000     0.200000    29.364000\n",
       "max    22638.480000    14.000000     0.800000  8399.976000"
      ]
     },
     "execution_count": 112,
     "metadata": {},
     "output_type": "execute_result"
    }
   ],
   "source": [
    "# summary statistics \n",
    "df.describe()"
   ]
  },
  {
   "cell_type": "code",
   "execution_count": 113,
   "metadata": {},
   "outputs": [],
   "source": [
    "# Let's create 2 groups of sales, less than equal to 500 & greater than 500 and going to perform hypothesis testing\n",
    "# salesgrp1 = df.loc[df['Sales'] >= 500]\n",
    "# salesgrp2= df.loc[df['Sales'] < 500]\n",
    "#Another method:\n",
    "s = 500\n",
    "df1 = df[df['Sales'] >= s]\n",
    "# df1\n",
    "df2 = df[df['Sales'] < s]\n",
    "# df2"
   ]
  },
  {
   "cell_type": "markdown",
   "metadata": {},
   "source": [
    "##### (a)Hypothesis testing:\n",
    "###### (i)  null and alternate hypothesis for Quantity\n",
    "State the hypothesis:\n",
    "H0 = The average quantity is same in both \"<$500USD\"  and \">=$500USD\" samples\n",
    "\n",
    "Ha = The average quantity is different in the \"<$500USD\"  and \">=$500USD\" samples\n",
    "Significance level(Alpha) : 5%\n",
    "Solution: Following are the results of the T-test:"
   ]
  },
  {
   "cell_type": "code",
   "execution_count": 114,
   "metadata": {},
   "outputs": [],
   "source": [
    "# importing statistics libraries\n",
    "import scipy"
   ]
  },
  {
   "cell_type": "code",
   "execution_count": 115,
   "metadata": {},
   "outputs": [
    {
     "data": {
      "text/plain": [
       "Ttest_indResult(statistic=23.048541232059527, pvalue=1.4303352494373927e-114)"
      ]
     },
     "execution_count": 115,
     "metadata": {},
     "output_type": "execute_result"
    }
   ],
   "source": [
    "scipy.stats.ttest_ind(df1['Quantity'], df2['Quantity']) # reject the null hypothesis"
   ]
  },
  {
   "cell_type": "markdown",
   "metadata": {},
   "source": [
    "As the p-value is less than the 0.05 significance level, we\n",
    "reject the null hypothesis that the average quantity is same in both groups."
   ]
  },
  {
   "cell_type": "markdown",
   "metadata": {},
   "source": [
    "###### (i)  null and alternate hypothesis for Profit \n",
    "State the hypothesis:\n",
    "H0 = The average profit is same in both \"<$500\"  and \">=$500\" samples\n",
    "\n",
    "Ha = The average profit is different in the \"<$500\"  and \">=$500\" samples\n",
    "Significance level(Alpha) : 5%\n",
    "Solution: Following are the results of the T-test:"
   ]
  },
  {
   "cell_type": "code",
   "execution_count": 116,
   "metadata": {},
   "outputs": [
    {
     "data": {
      "text/plain": [
       "Ttest_indResult(statistic=20.92431433691895, pvalue=3.4731221051168224e-95)"
      ]
     },
     "execution_count": 116,
     "metadata": {},
     "output_type": "execute_result"
    }
   ],
   "source": [
    "scipy.stats.ttest_ind(df1['Profit'], df2['Profit']) # reject the null hypothesis"
   ]
  },
  {
   "cell_type": "markdown",
   "metadata": {},
   "source": [
    "As the p-value is less than the 0.05 significance level, we\n",
    "reject the null hypothesis that the average profit is same in both the groups."
   ]
  },
  {
   "cell_type": "markdown",
   "metadata": {},
   "source": [
    "##### Interpretation of t-test\n",
    "As the p-value is less than the significance level of 0.05, we can\n",
    "reject the null hypothesis and conclude that Quantity, Profit and Sales\n",
    "have different means in the “<$500”   and “>=$500”. samples."
   ]
  },
  {
   "cell_type": "markdown",
   "metadata": {},
   "source": [
    "##### (b) Correlation Matrix of Numeric Variables:"
   ]
  },
  {
   "cell_type": "code",
   "execution_count": 117,
   "metadata": {},
   "outputs": [
    {
     "data": {
      "text/plain": [
       "<matplotlib.axes._subplots.AxesSubplot at 0x1b83f4dd808>"
      ]
     },
     "execution_count": 117,
     "metadata": {},
     "output_type": "execute_result"
    },
    {
     "data": {
      "image/png": "[encoded data removed]",
      "text/plain": [
       "<Figure size 720x576 with 2 Axes>"
      ]
     },
     "metadata": {
      "needs_background": "light"
     },
     "output_type": "display_data"
    }
   ],
   "source": [
    "# creating a new dataframe which contains all numeric variables\n",
    "num_df = df.select_dtypes(include=['number']).copy()\n",
    "# Visual representation of correlation outputs using seaborn :\n",
    "import seaborn as sns\n",
    "f, ax = plt.subplots(figsize=(10, 8))\n",
    "corr = num_df.corr()\n",
    "sns.heatmap(corr, mask=np.zeros_like(corr, dtype=np.bool), \\\n",
    "            cmap=sns.diverging_palette(20,120, as_cmap=True),\\\n",
    "            square=True, ax=ax, annot =True)\n",
    "\n",
    "# Another method:\n",
    "# sns.heatmap(num_df.corr(), annot = True,cmap=\"Spectral\")"
   ]
  },
  {
   "cell_type": "markdown",
   "metadata": {},
   "source": [
    "###### Interpretation of Correlation Matrix:\n",
    "Only Profit is positively correlated and there's weak realtionship"
   ]
  },
  {
   "cell_type": "code",
   "execution_count": 118,
   "metadata": {},
   "outputs": [
    {
     "name": "stdout",
     "output_type": "stream",
     "text": [
      "The r square is 0.22950265118961094\n",
      "The correlation between both factors is 0.48\n"
     ]
    },
    {
     "data": {
      "image/png": "[encoded data removed]",
      "text/plain": [
       "<Figure size 1440x720 with 1 Axes>"
      ]
     },
     "metadata": {
      "needs_background": "light"
     },
     "output_type": "display_data"
    }
   ],
   "source": [
    "# Sales Vs. Profit, performing linear regression , finding correlation & R-Squared \n",
    "# and presenting scatter plot with best fit line\n",
    "x = num_df['Profit']\n",
    "y = num_df['Sales']\n",
    "(slope, intercept, rvalue, pvalue, stderr) = sts.linregress(x, y)\n",
    "regress_values = x * slope + intercept\n",
    "line_eq = \"y = \" + str(round(slope,2)) + \"x + \" + str(round(intercept,2))\n",
    "print(f\"The r square is {rvalue**2}\")\n",
    "plt.scatter(x,y)\n",
    "plt.plot(x,regress_values,\"r-\", alpha=0.75)\n",
    "correlation = sts.pearsonr(x,y)\n",
    "print(f\"The correlation between both factors is {round(correlation[0],2)}\")\n",
    "plt.annotate(line_eq,(1980,-5000),fontsize=15, color=\"red\", alpha=0.75)\n",
    "plt.title(\"Sales vs Profit\")\n",
    "plt.xlabel(\"Profit\")\n",
    "plt.ylabel(\"Sales\")\n",
    "plt.show()"
   ]
  },
  {
   "cell_type": "code",
   "execution_count": 119,
   "metadata": {},
   "outputs": [
    {
     "name": "stdout",
     "output_type": "stream",
     "text": [
      "The r square is 0.04031854021109583\n",
      "The correlation between both factors is 0.2\n"
     ]
    },
    {
     "data": {
      "image/png": "[encoded data removed]",
      "text/plain": [
       "<Figure size 1440x720 with 1 Axes>"
      ]
     },
     "metadata": {
      "needs_background": "light"
     },
     "output_type": "display_data"
    }
   ],
   "source": [
    "# Sales Vs Quantity, performing linear regression, finding correlation & R-Squared \n",
    "# and presenting scatter plot with best fit line\n",
    "x = num_df['Quantity']\n",
    "y = num_df['Sales']\n",
    "(slope, intercept, rvalue, pvalue, stderr) = sts.linregress(x, y)\n",
    "regress_values = x * slope + intercept\n",
    "line_eq = \"y = \" + str(round(slope,2)) + \"x + \" + str(round(intercept,2))\n",
    "print(f\"The r square is {rvalue**2}\")\n",
    "plt.scatter(x,y)\n",
    "plt.plot(x,regress_values,\"r-\", alpha=0.75)\n",
    "correlation = sts.pearsonr(x,y)\n",
    "print(f\"The correlation between both factors is {round(correlation[0],2)}\")\n",
    "plt.annotate(line_eq,(6,15000),fontsize=15, color=\"red\", alpha=0.75)\n",
    "plt.title(\"Sales vs Quantity\")\n",
    "plt.xlabel(\"Quantity\")\n",
    "plt.ylabel(\"Sales\")\n",
    "plt.show()"
   ]
  },
  {
   "cell_type": "markdown",
   "metadata": {},
   "source": [
    "#### (ii) Distribution of Categorical Variable:"
   ]
  },
  {
   "cell_type": "code",
   "execution_count": 120,
   "metadata": {},
   "outputs": [
    {
     "data": {
      "text/plain": [
       "Consumer       51.94\n",
       "Corporate      30.22\n",
       "Home Office    17.84\n",
       "Name: Segment, dtype: float64"
      ]
     },
     "execution_count": 120,
     "metadata": {},
     "output_type": "execute_result"
    }
   ],
   "source": [
    "round(df['Segment'].value_counts()/len(df)*100,2)"
   ]
  },
  {
   "cell_type": "markdown",
   "metadata": {},
   "source": [
    "###### Consumer is the most popular segment followed by Corporate."
   ]
  },
  {
   "cell_type": "code",
   "execution_count": 121,
   "metadata": {},
   "outputs": [
    {
     "data": {
      "text/plain": [
       "Office Supplies    60.30\n",
       "Furniture          21.22\n",
       "Technology         18.48\n",
       "Name: Category, dtype: float64"
      ]
     },
     "execution_count": 121,
     "metadata": {},
     "output_type": "execute_result"
    }
   ],
   "source": [
    "round(df['Category'].value_counts()/len(df)*100,2)"
   ]
  },
  {
   "cell_type": "markdown",
   "metadata": {},
   "source": [
    "###### 60% of the category in the ordered items are office supplies followed by futrniture."
   ]
  },
  {
   "cell_type": "code",
   "execution_count": 122,
   "metadata": {},
   "outputs": [
    {
     "data": {
      "text/plain": [
       "Binders        15.24\n",
       "Paper          13.71\n",
       "Furnishings     9.58\n",
       "Phones          8.90\n",
       "Storage         8.47\n",
       "Art             7.96\n",
       "Accessories     7.75\n",
       "Chairs          6.17\n",
       "Appliances      4.66\n",
       "Labels          3.64\n",
       "Tables          3.19\n",
       "Envelopes       2.54\n",
       "Bookcases       2.28\n",
       "Fasteners       2.17\n",
       "Supplies        1.90\n",
       "Machines        1.15\n",
       "Copiers         0.68\n",
       "Name: Sub-Category, dtype: float64"
      ]
     },
     "execution_count": 122,
     "metadata": {},
     "output_type": "execute_result"
    }
   ],
   "source": [
    "round(df['Sub-Category'].value_counts()/len(df)*100,2)"
   ]
  },
  {
   "cell_type": "markdown",
   "metadata": {},
   "source": [
    "###### Sub-Category has office supplies on top !"
   ]
  },
  {
   "cell_type": "code",
   "execution_count": 123,
   "metadata": {},
   "outputs": [
    {
     "data": {
      "text/plain": [
       "Standard Class    59.72\n",
       "Second Class      19.46\n",
       "First Class       15.39\n",
       "Same Day           5.43\n",
       "Name: Ship Mode, dtype: float64"
      ]
     },
     "execution_count": 123,
     "metadata": {},
     "output_type": "execute_result"
    }
   ],
   "source": [
    "round(df['Ship Mode'].value_counts()/len(df)*100,2)"
   ]
  },
  {
   "cell_type": "markdown",
   "metadata": {},
   "source": [
    "###### Standard Class is undoubtedly the most preferrred shipping method followed by second class, same day is the least used method"
   ]
  },
  {
   "cell_type": "code",
   "execution_count": 124,
   "metadata": {},
   "outputs": [],
   "source": [
    "from scipy.stats import chi2_contingency"
   ]
  },
  {
   "cell_type": "code",
   "execution_count": 125,
   "metadata": {},
   "outputs": [
    {
     "data": {
      "text/plain": [
       "9.005463273040477e-05"
      ]
     },
     "execution_count": 125,
     "metadata": {},
     "output_type": "execute_result"
    }
   ],
   "source": [
    "#The research question is the following, \n",
    "#is there a relationship between the segment and ship mode?\n",
    "crosstab = pd.crosstab(df['Segment'],df['Ship Mode'])\n",
    "chi2_contingency(crosstab)[1]\n",
    "# p-value = 0.00009005463273040477\n"
   ]
  },
  {
   "cell_type": "markdown",
   "metadata": {},
   "source": [
    "##### There is a relationship between segment and Ship mode as p < 0.05."
   ]
  },
  {
   "cell_type": "code",
   "execution_count": 126,
   "metadata": {},
   "outputs": [
    {
     "data": {
      "text/plain": [
       "0.5445746876991091"
      ]
     },
     "execution_count": 126,
     "metadata": {},
     "output_type": "execute_result"
    }
   ],
   "source": [
    "#is there a relationship between the segment and region\n",
    "crosstabSR = pd.crosstab(df['Segment'],df['Region'])\n",
    "chi2_contingency(crosstabSR)[1] # 0.5445746876991091"
   ]
  },
  {
   "cell_type": "markdown",
   "metadata": {},
   "source": [
    "##### There is not any relationship between segment and region as p > 0.05."
   ]
  },
  {
   "cell_type": "code",
   "execution_count": 127,
   "metadata": {},
   "outputs": [
    {
     "data": {
      "text/plain": [
       "0.7334430848247819"
      ]
     },
     "execution_count": 127,
     "metadata": {},
     "output_type": "execute_result"
    }
   ],
   "source": [
    "#Tis there a relationship between the segment and region?\n",
    "crosstabSC = pd.crosstab(df['Ship Mode'],df['Category'])\n",
    "chi2_contingency(crosstabSC)[1] # 0.0.7334430848247819\n",
    "#There is not any relationship between segment and region as p > 0.05."
   ]
  },
  {
   "cell_type": "code",
   "execution_count": 128,
   "metadata": {},
   "outputs": [
    {
     "data": {
      "text/plain": [
       "0.7223155543986877"
      ]
     },
     "execution_count": 128,
     "metadata": {},
     "output_type": "execute_result"
    }
   ],
   "source": [
    "#is there a relationship between the category and region?\n",
    "crosstabCR = pd.crosstab(df['Category'],df['Region'])\n",
    "chi2_contingency(crosstabCR)[1] # 0.7223155543986877\n",
    "#There is not any relationship between categoey and region as p > 0.05."
   ]
  },
  {
   "cell_type": "code",
   "execution_count": 129,
   "metadata": {},
   "outputs": [
    {
     "data": {
      "text/plain": [
       "0.0"
      ]
     },
     "execution_count": 129,
     "metadata": {},
     "output_type": "execute_result"
    }
   ],
   "source": [
    "#is there a relationship between the category and region?\n",
    "crosstabCS = pd.crosstab(df['Category'],df['Sub-Category'])\n",
    "chi2_contingency(crosstabCS)[1] # 0.0\n",
    "#There is not any relationship between categoey and region as p = 0.05."
   ]
  },
  {
   "cell_type": "code",
   "execution_count": 130,
   "metadata": {},
   "outputs": [
    {
     "data": {
      "text/plain": [
       "0.8334835825190556"
      ]
     },
     "execution_count": 130,
     "metadata": {},
     "output_type": "execute_result"
    }
   ],
   "source": [
    "#is there a relationship between the segment and category?\n",
    "crosstabSC = pd.crosstab(df['Segment'],df['Category'])\n",
    "chi2_contingency(crosstabSC)[1] #0.8334835825190556\n",
    "#There is not any relationship between segment and category as p > 0.05."
   ]
  },
  {
   "cell_type": "code",
   "execution_count": 131,
   "metadata": {},
   "outputs": [
    {
     "data": {
      "text/plain": [
       "0.7908446323024501"
      ]
     },
     "execution_count": 131,
     "metadata": {},
     "output_type": "execute_result"
    }
   ],
   "source": [
    "#The research question is the following, is there a relationship between the segment and sub-category?\n",
    "crosstabSsubc = pd.crosstab(df['Segment'],df['Sub-Category'])\n",
    "chi2_contingency(crosstabSsubc)[1] #0.7908446323024501\n",
    "#There is not any relationship between segment and sub-category as p > 0.05."
   ]
  },
  {
   "cell_type": "markdown",
   "metadata": {},
   "source": [
    "###### Interpretation: Only relationship that can be seen is between segment and ship mode, no other categorical variables show any relationship"
   ]
  },
  {
   "cell_type": "markdown",
   "metadata": {},
   "source": [
    "### Step 3: Predictive Modeling \n",
    "#### Part-1 with all relevant Columns: let's declare our target variable"
   ]
  },
  {
   "cell_type": "code",
   "execution_count": 151,
   "metadata": {},
   "outputs": [
    {
     "data": {
      "text/html": [
       "<div>\n",
       "<style scoped>\n",
       "    .dataframe tbody tr th:only-of-type {\n",
       "        vertical-align: middle;\n",
       "    }\n",
       "\n",
       "    .dataframe tbody tr th {\n",
       "        vertical-align: top;\n",
       "    }\n",
       "\n",
       "    .dataframe thead th {\n",
       "        text-align: right;\n",
       "    }\n",
       "</style>\n",
       "<table border=\"1\" class=\"dataframe\">\n",
       "  <thead>\n",
       "    <tr style=\"text-align: right;\">\n",
       "      <th></th>\n",
       "      <th>Ship Mode</th>\n",
       "      <th>Segment</th>\n",
       "      <th>City</th>\n",
       "      <th>State</th>\n",
       "      <th>Region</th>\n",
       "      <th>Category</th>\n",
       "      <th>Sub-Category</th>\n",
       "      <th>Sales</th>\n",
       "      <th>Quantity</th>\n",
       "      <th>Discount</th>\n",
       "      <th>Profit</th>\n",
       "    </tr>\n",
       "  </thead>\n",
       "  <tbody>\n",
       "    <tr>\n",
       "      <td>0</td>\n",
       "      <td>Second Class</td>\n",
       "      <td>Consumer</td>\n",
       "      <td>Henderson</td>\n",
       "      <td>Kentucky</td>\n",
       "      <td>South</td>\n",
       "      <td>Furniture</td>\n",
       "      <td>Bookcases</td>\n",
       "      <td>261.9600</td>\n",
       "      <td>2</td>\n",
       "      <td>0.00</td>\n",
       "      <td>41.9136</td>\n",
       "    </tr>\n",
       "    <tr>\n",
       "      <td>1</td>\n",
       "      <td>Second Class</td>\n",
       "      <td>Consumer</td>\n",
       "      <td>Henderson</td>\n",
       "      <td>Kentucky</td>\n",
       "      <td>South</td>\n",
       "      <td>Furniture</td>\n",
       "      <td>Chairs</td>\n",
       "      <td>731.9400</td>\n",
       "      <td>3</td>\n",
       "      <td>0.00</td>\n",
       "      <td>219.5820</td>\n",
       "    </tr>\n",
       "    <tr>\n",
       "      <td>2</td>\n",
       "      <td>Second Class</td>\n",
       "      <td>Corporate</td>\n",
       "      <td>Los Angeles</td>\n",
       "      <td>California</td>\n",
       "      <td>West</td>\n",
       "      <td>Office Supplies</td>\n",
       "      <td>Labels</td>\n",
       "      <td>14.6200</td>\n",
       "      <td>2</td>\n",
       "      <td>0.00</td>\n",
       "      <td>6.8714</td>\n",
       "    </tr>\n",
       "    <tr>\n",
       "      <td>3</td>\n",
       "      <td>Standard Class</td>\n",
       "      <td>Consumer</td>\n",
       "      <td>Fort Lauderdale</td>\n",
       "      <td>Florida</td>\n",
       "      <td>South</td>\n",
       "      <td>Furniture</td>\n",
       "      <td>Tables</td>\n",
       "      <td>957.5775</td>\n",
       "      <td>5</td>\n",
       "      <td>0.45</td>\n",
       "      <td>-383.0310</td>\n",
       "    </tr>\n",
       "    <tr>\n",
       "      <td>4</td>\n",
       "      <td>Standard Class</td>\n",
       "      <td>Consumer</td>\n",
       "      <td>Fort Lauderdale</td>\n",
       "      <td>Florida</td>\n",
       "      <td>South</td>\n",
       "      <td>Office Supplies</td>\n",
       "      <td>Storage</td>\n",
       "      <td>22.3680</td>\n",
       "      <td>2</td>\n",
       "      <td>0.20</td>\n",
       "      <td>2.5164</td>\n",
       "    </tr>\n",
       "  </tbody>\n",
       "</table>\n",
       "</div>"
      ],
      "text/plain": [
       "        Ship Mode    Segment             City       State Region  \\\n",
       "0    Second Class   Consumer        Henderson    Kentucky  South   \n",
       "1    Second Class   Consumer        Henderson    Kentucky  South   \n",
       "2    Second Class  Corporate      Los Angeles  California   West   \n",
       "3  Standard Class   Consumer  Fort Lauderdale     Florida  South   \n",
       "4  Standard Class   Consumer  Fort Lauderdale     Florida  South   \n",
       "\n",
       "          Category Sub-Category     Sales  Quantity  Discount    Profit  \n",
       "0        Furniture    Bookcases  261.9600         2      0.00   41.9136  \n",
       "1        Furniture       Chairs  731.9400         3      0.00  219.5820  \n",
       "2  Office Supplies       Labels   14.6200         2      0.00    6.8714  \n",
       "3        Furniture       Tables  957.5775         5      0.45 -383.0310  \n",
       "4  Office Supplies      Storage   22.3680         2      0.20    2.5164  "
      ]
     },
     "execution_count": 151,
     "metadata": {},
     "output_type": "execute_result"
    }
   ],
   "source": [
    "# let's drop non-informative columns including postal code they aren't providing any insight\n",
    "finaldf = df.drop([\"Order Date\",\"Ship Date\",\"Product Name\",'Country/Region','Customer Name','Profit/Loss'], axis=1)\n",
    "finaldf.head()"
   ]
  },
  {
   "cell_type": "code",
   "execution_count": 133,
   "metadata": {},
   "outputs": [
    {
     "data": {
      "text/html": [
       "<div>\n",
       "<style scoped>\n",
       "    .dataframe tbody tr th:only-of-type {\n",
       "        vertical-align: middle;\n",
       "    }\n",
       "\n",
       "    .dataframe tbody tr th {\n",
       "        vertical-align: top;\n",
       "    }\n",
       "\n",
       "    .dataframe thead th {\n",
       "        text-align: right;\n",
       "    }\n",
       "</style>\n",
       "<table border=\"1\" class=\"dataframe\">\n",
       "  <thead>\n",
       "    <tr style=\"text-align: right;\">\n",
       "      <th></th>\n",
       "      <th>Sales</th>\n",
       "      <th>Ship Mode</th>\n",
       "      <th>Segment</th>\n",
       "      <th>City</th>\n",
       "      <th>State</th>\n",
       "      <th>Region</th>\n",
       "      <th>Category</th>\n",
       "      <th>Sub-Category</th>\n",
       "      <th>Quantity</th>\n",
       "      <th>Discount</th>\n",
       "      <th>Profit</th>\n",
       "    </tr>\n",
       "  </thead>\n",
       "  <tbody>\n",
       "    <tr>\n",
       "      <td>0</td>\n",
       "      <td>261.96</td>\n",
       "      <td>Second Class</td>\n",
       "      <td>Consumer</td>\n",
       "      <td>Henderson</td>\n",
       "      <td>Kentucky</td>\n",
       "      <td>South</td>\n",
       "      <td>Furniture</td>\n",
       "      <td>Bookcases</td>\n",
       "      <td>2</td>\n",
       "      <td>0.0</td>\n",
       "      <td>41.9136</td>\n",
       "    </tr>\n",
       "    <tr>\n",
       "      <td>1</td>\n",
       "      <td>731.94</td>\n",
       "      <td>Second Class</td>\n",
       "      <td>Consumer</td>\n",
       "      <td>Henderson</td>\n",
       "      <td>Kentucky</td>\n",
       "      <td>South</td>\n",
       "      <td>Furniture</td>\n",
       "      <td>Chairs</td>\n",
       "      <td>3</td>\n",
       "      <td>0.0</td>\n",
       "      <td>219.5820</td>\n",
       "    </tr>\n",
       "    <tr>\n",
       "      <td>2</td>\n",
       "      <td>14.62</td>\n",
       "      <td>Second Class</td>\n",
       "      <td>Corporate</td>\n",
       "      <td>Los Angeles</td>\n",
       "      <td>California</td>\n",
       "      <td>West</td>\n",
       "      <td>Office Supplies</td>\n",
       "      <td>Labels</td>\n",
       "      <td>2</td>\n",
       "      <td>0.0</td>\n",
       "      <td>6.8714</td>\n",
       "    </tr>\n",
       "  </tbody>\n",
       "</table>\n",
       "</div>"
      ],
      "text/plain": [
       "    Sales     Ship Mode    Segment         City       State Region  \\\n",
       "0  261.96  Second Class   Consumer    Henderson    Kentucky  South   \n",
       "1  731.94  Second Class   Consumer    Henderson    Kentucky  South   \n",
       "2   14.62  Second Class  Corporate  Los Angeles  California   West   \n",
       "\n",
       "          Category Sub-Category  Quantity  Discount    Profit  \n",
       "0        Furniture    Bookcases         2       0.0   41.9136  \n",
       "1        Furniture       Chairs         3       0.0  219.5820  \n",
       "2  Office Supplies       Labels         2       0.0    6.8714  "
      ]
     },
     "execution_count": 133,
     "metadata": {},
     "output_type": "execute_result"
    }
   ],
   "source": [
    "# First, designating target variable name\n",
    "targetName = 'Sales'\n",
    "targetSeries = finaldf[targetName]\n",
    "#remove target from current location and insert in column 0\n",
    "del finaldf[targetName]\n",
    "finaldf.insert(0, targetName, targetSeries)\n",
    "# collecting all features\n",
    "features = ['Ship Mode','Segment','City','State','Region','Category','Sub-Category','Quantity','Discount','Profit']\n",
    "#targetSeries is the new target \n",
    "finaldf[:3]"
   ]
  },
  {
   "cell_type": "code",
   "execution_count": 134,
   "metadata": {},
   "outputs": [
    {
     "name": "stdout",
     "output_type": "stream",
     "text": [
      "Target column is: Sales \n",
      "Features columns are: ['Ship Mode', 'Segment', 'City', 'State', 'Region', 'Category', 'Sub-Category', 'Quantity', 'Discount', 'Profit']\n"
     ]
    }
   ],
   "source": [
    "print(f\"Target column is: {target} \")\n",
    "print(f\"Features columns are: {features}\")"
   ]
  },
  {
   "cell_type": "markdown",
   "metadata": {},
   "source": [
    "#### Importing all dependencies "
   ]
  },
  {
   "cell_type": "code",
   "execution_count": 135,
   "metadata": {},
   "outputs": [],
   "source": [
    "# All required packages\n",
    "%matplotlib inline \n",
    "import numpy as np\n",
    "import matplotlib.pyplot as plt\n",
    "import pandas as pd\n",
    "from sklearn import preprocessing\n",
    "from sklearn.model_selection import train_test_split\n",
    "from sklearn.metrics import accuracy_score, precision_score, recall_score, f1_score\n",
    "from sklearn.metrics import roc_curve, auc, confusion_matrix, classification_report\n",
    "from sklearn import tree \n",
    "from sklearn.ensemble import RandomForestClassifier\n",
    "from sklearn.model_selection import train_test_split\n",
    "import scipy.stats as ss\n",
    "from sklearn.neighbors import KNeighborsClassifier\n",
    "from sklearn.model_selection import learning_curve, GridSearchCV\n",
    "import time \n",
    "from operator import itemgetter\n",
    "import os\n",
    "from sklearn.model_selection import GridSearchCV\n",
    "from sklearn.tree import DecisionTreeClassifier, export_graphviz\n",
    "from sklearn import metrics"
   ]
  },
  {
   "cell_type": "markdown",
   "metadata": {},
   "source": [
    "#### Performing data transformation:\n",
    "##### categorical variables will have multiple columns based on number of class"
   ]
  },
  {
   "cell_type": "code",
   "execution_count": 136,
   "metadata": {},
   "outputs": [],
   "source": [
    "\n",
    "for col in finaldf.columns:\n",
    "\tattName = col\n",
    "\tdType = finaldf[col].dtype\n",
    "\tmissing = pd.isnull(finaldf[col]).any()\n",
    "\tuniqueCount = len(finaldf[attName].value_counts(normalize=False))\n",
    "\t# discretize (create dummies)\n",
    "\tif dType == object:\n",
    "\t\tfinaldf = pd.concat([finaldf, pd.get_dummies(finaldf[col], prefix=col)], axis=1)\n",
    "\t\tdel finaldf[attName]"
   ]
  },
  {
   "cell_type": "code",
   "execution_count": 137,
   "metadata": {},
   "outputs": [
    {
     "data": {
      "text/html": [
       "<div>\n",
       "<style scoped>\n",
       "    .dataframe tbody tr th:only-of-type {\n",
       "        vertical-align: middle;\n",
       "    }\n",
       "\n",
       "    .dataframe tbody tr th {\n",
       "        vertical-align: top;\n",
       "    }\n",
       "\n",
       "    .dataframe thead th {\n",
       "        text-align: right;\n",
       "    }\n",
       "</style>\n",
       "<table border=\"1\" class=\"dataframe\">\n",
       "  <thead>\n",
       "    <tr style=\"text-align: right;\">\n",
       "      <th></th>\n",
       "      <th>Sales</th>\n",
       "      <th>Quantity</th>\n",
       "      <th>Discount</th>\n",
       "      <th>Profit</th>\n",
       "      <th>Ship Mode_First Class</th>\n",
       "      <th>Ship Mode_Same Day</th>\n",
       "      <th>Ship Mode_Second Class</th>\n",
       "      <th>Ship Mode_Standard Class</th>\n",
       "      <th>Segment_Consumer</th>\n",
       "      <th>Segment_Corporate</th>\n",
       "      <th>...</th>\n",
       "      <th>Sub-Category_Envelopes</th>\n",
       "      <th>Sub-Category_Fasteners</th>\n",
       "      <th>Sub-Category_Furnishings</th>\n",
       "      <th>Sub-Category_Labels</th>\n",
       "      <th>Sub-Category_Machines</th>\n",
       "      <th>Sub-Category_Paper</th>\n",
       "      <th>Sub-Category_Phones</th>\n",
       "      <th>Sub-Category_Storage</th>\n",
       "      <th>Sub-Category_Supplies</th>\n",
       "      <th>Sub-Category_Tables</th>\n",
       "    </tr>\n",
       "  </thead>\n",
       "  <tbody>\n",
       "    <tr>\n",
       "      <td>0</td>\n",
       "      <td>261.96</td>\n",
       "      <td>2</td>\n",
       "      <td>0.0</td>\n",
       "      <td>41.9136</td>\n",
       "      <td>0</td>\n",
       "      <td>0</td>\n",
       "      <td>1</td>\n",
       "      <td>0</td>\n",
       "      <td>1</td>\n",
       "      <td>0</td>\n",
       "      <td>...</td>\n",
       "      <td>0</td>\n",
       "      <td>0</td>\n",
       "      <td>0</td>\n",
       "      <td>0</td>\n",
       "      <td>0</td>\n",
       "      <td>0</td>\n",
       "      <td>0</td>\n",
       "      <td>0</td>\n",
       "      <td>0</td>\n",
       "      <td>0</td>\n",
       "    </tr>\n",
       "    <tr>\n",
       "      <td>1</td>\n",
       "      <td>731.94</td>\n",
       "      <td>3</td>\n",
       "      <td>0.0</td>\n",
       "      <td>219.5820</td>\n",
       "      <td>0</td>\n",
       "      <td>0</td>\n",
       "      <td>1</td>\n",
       "      <td>0</td>\n",
       "      <td>1</td>\n",
       "      <td>0</td>\n",
       "      <td>...</td>\n",
       "      <td>0</td>\n",
       "      <td>0</td>\n",
       "      <td>0</td>\n",
       "      <td>0</td>\n",
       "      <td>0</td>\n",
       "      <td>0</td>\n",
       "      <td>0</td>\n",
       "      <td>0</td>\n",
       "      <td>0</td>\n",
       "      <td>0</td>\n",
       "    </tr>\n",
       "    <tr>\n",
       "      <td>2</td>\n",
       "      <td>14.62</td>\n",
       "      <td>2</td>\n",
       "      <td>0.0</td>\n",
       "      <td>6.8714</td>\n",
       "      <td>0</td>\n",
       "      <td>0</td>\n",
       "      <td>1</td>\n",
       "      <td>0</td>\n",
       "      <td>0</td>\n",
       "      <td>1</td>\n",
       "      <td>...</td>\n",
       "      <td>0</td>\n",
       "      <td>0</td>\n",
       "      <td>0</td>\n",
       "      <td>1</td>\n",
       "      <td>0</td>\n",
       "      <td>0</td>\n",
       "      <td>0</td>\n",
       "      <td>0</td>\n",
       "      <td>0</td>\n",
       "      <td>0</td>\n",
       "    </tr>\n",
       "  </tbody>\n",
       "</table>\n",
       "<p>3 rows × 615 columns</p>\n",
       "</div>"
      ],
      "text/plain": [
       "    Sales  Quantity  Discount    Profit  Ship Mode_First Class  \\\n",
       "0  261.96         2       0.0   41.9136                      0   \n",
       "1  731.94         3       0.0  219.5820                      0   \n",
       "2   14.62         2       0.0    6.8714                      0   \n",
       "\n",
       "   Ship Mode_Same Day  Ship Mode_Second Class  Ship Mode_Standard Class  \\\n",
       "0                   0                       1                         0   \n",
       "1                   0                       1                         0   \n",
       "2                   0                       1                         0   \n",
       "\n",
       "   Segment_Consumer  Segment_Corporate  ...  Sub-Category_Envelopes  \\\n",
       "0                 1                  0  ...                       0   \n",
       "1                 1                  0  ...                       0   \n",
       "2                 0                  1  ...                       0   \n",
       "\n",
       "   Sub-Category_Fasteners  Sub-Category_Furnishings  Sub-Category_Labels  \\\n",
       "0                       0                         0                    0   \n",
       "1                       0                         0                    0   \n",
       "2                       0                         0                    1   \n",
       "\n",
       "   Sub-Category_Machines  Sub-Category_Paper  Sub-Category_Phones  \\\n",
       "0                      0                   0                    0   \n",
       "1                      0                   0                    0   \n",
       "2                      0                   0                    0   \n",
       "\n",
       "   Sub-Category_Storage  Sub-Category_Supplies  Sub-Category_Tables  \n",
       "0                     0                      0                    0  \n",
       "1                     0                      0                    0  \n",
       "2                     0                      0                    0  \n",
       "\n",
       "[3 rows x 615 columns]"
      ]
     },
     "execution_count": 137,
     "metadata": {},
     "output_type": "execute_result"
    }
   ],
   "source": [
    "# Let's check first 3 rows after trasformation \n",
    "finaldf[:3]\n",
    "# now, we have total 615 columns"
   ]
  },
  {
   "cell_type": "markdown",
   "metadata": {},
   "source": [
    "#### separating target and features dataset"
   ]
  },
  {
   "cell_type": "code",
   "execution_count": 138,
   "metadata": {},
   "outputs": [],
   "source": [
    "from sklearn.model_selection import train_test_split\n",
    "# splitting dataset into testing and training\n",
    "X_train, X_test, y_train, y_test = train_test_split(\n",
    "    finaldf.iloc[:,1:].values, finaldf.iloc[:,0].values, test_size=0.30, random_state=4)"
   ]
  },
  {
   "cell_type": "markdown",
   "metadata": {},
   "source": [
    "#### Checking the datasets' dimension"
   ]
  },
  {
   "cell_type": "code",
   "execution_count": 139,
   "metadata": {},
   "outputs": [
    {
     "name": "stdout",
     "output_type": "stream",
     "text": [
      "(6995, 614)\n",
      "(6995,)\n",
      "(2999, 614)\n",
      "(2999,)\n"
     ]
    }
   ],
   "source": [
    "print(X_train.shape)\n",
    "print(y_train.shape)\n",
    "\n",
    "print(X_test.shape)\n",
    "print(y_test.shape)"
   ]
  },
  {
   "cell_type": "markdown",
   "metadata": {},
   "source": [
    "##### Superstore data set has been partitioned into 70-30%"
   ]
  },
  {
   "cell_type": "markdown",
   "metadata": {},
   "source": [
    "#### Training the models and predicting on the test data set using Linear Regression"
   ]
  },
  {
   "cell_type": "code",
   "execution_count": 140,
   "metadata": {},
   "outputs": [],
   "source": [
    "# Linear Regression\n",
    "from sklearn.linear_model import LinearRegression\n",
    "# instantiating\n",
    "lin_reg = LinearRegression()\n",
    "# fitting\n",
    "lin_reg.fit(X_train, y_train)\n",
    "# predicting\n",
    "y_pred = lin_reg.predict(X_test)"
   ]
  },
  {
   "cell_type": "markdown",
   "metadata": {},
   "source": [
    "#### Evaluating the performance of the Models for linear regression Model"
   ]
  },
  {
   "cell_type": "code",
   "execution_count": 141,
   "metadata": {},
   "outputs": [
    {
     "name": "stdout",
     "output_type": "stream",
     "text": [
      "Mean Absolute Error: 209.32579591083226\n",
      "Mean Squared Error: 205095.29685595148\n",
      "Root Mean Squared Error: 452.8744824517622\n",
      "Linear regression R-squared\": 0.4566\n"
     ]
    }
   ],
   "source": [
    "# Mean absolute error(ME)\n",
    "print('Mean Absolute Error:', metrics.mean_absolute_error(y_test, y_pred))  \n",
    "# MSE\n",
    "print('Mean Squared Error:', metrics.mean_squared_error(y_test, y_pred))  \n",
    "#RMSE\n",
    "print('Root Mean Squared Error:', np.sqrt(metrics.mean_squared_error(y_test, y_pred)))\n",
    "\n",
    "# let's check r^2\n",
    "print('Linear regression R-squared\": %.4f' % lin_reg.score(X_test, y_test))"
   ]
  },
  {
   "cell_type": "markdown",
   "metadata": {},
   "source": [
    "#### Training the models and predicting on the test data set using Random Forest Models"
   ]
  },
  {
   "cell_type": "code",
   "execution_count": 142,
   "metadata": {},
   "outputs": [],
   "source": [
    "# Let's try Random Forest model\n",
    "from sklearn.ensemble import RandomForestRegressor\n",
    "from sklearn import metrics\n",
    "RfModel = RandomForestRegressor(random_state=1, max_depth=10)\n",
    "# fitting the model\n",
    "RfModel.fit(X_train,y_train)\n",
    "# make predictions\n",
    "y_pred = RfModel.predict(X_test)"
   ]
  },
  {
   "cell_type": "markdown",
   "metadata": {},
   "source": [
    "#### Evaluating the performance of the Models for Random Forest Model"
   ]
  },
  {
   "cell_type": "code",
   "execution_count": 143,
   "metadata": {},
   "outputs": [
    {
     "name": "stdout",
     "output_type": "stream",
     "text": [
      "Mean Absolute Error: 82.61728444686507\n",
      "Mean Squared Error: 80884.24068050821\n",
      "Root Mean Squared Error: 284.40154830891515\n",
      "Random Forest R squared\": 0.7857\n"
     ]
    }
   ],
   "source": [
    "# Mean absolute error(ME)\n",
    "print('Mean Absolute Error:', metrics.mean_absolute_error(y_test, y_pred))  \n",
    "# MSE\n",
    "print('Mean Squared Error:', metrics.mean_squared_error(y_test, y_pred))  \n",
    "#RMSE\n",
    "print('Root Mean Squared Error:', np.sqrt(metrics.mean_squared_error(y_test, y_pred)))\n",
    "\n",
    "# let's check r^2\n",
    "print('Random Forest R squared\": %.4f' % RfModel.score(X_test, y_test))"
   ]
  },
  {
   "cell_type": "code",
   "execution_count": 144,
   "metadata": {},
   "outputs": [
    {
     "data": {
      "image/png": "[encoded data removed]",
      "text/plain": [
       "<Figure size 432x288 with 1 Axes>"
      ]
     },
     "metadata": {
      "needs_background": "light"
     },
     "output_type": "display_data"
    }
   ],
   "source": [
    "# Finding the most important features\n",
    "# storing all feature names\n",
    "feature_names = finaldf.columns[1:]\n",
    "# feature_names\n",
    "importances = RfModel.feature_importances_\n",
    "indices = np.argsort(importances) [-9:]  # top 10 features\n",
    "# indices[:10]\n",
    "plt.title('Feature Importances')\n",
    "plt.barh(range(len(indices)), importances[indices], color='b', align='center')\n",
    "plt.yticks(range(len(indices)), [feature_names[i] for i in indices])\n",
    "plt.xlabel('Relative Importance')\n",
    "plt.show()"
   ]
  },
  {
   "cell_type": "markdown",
   "metadata": {},
   "source": [
    "#### Using 5-fold cross-validation:\n",
    "When only a limited amount of data is available, to achieve an unbias estimate of the model performance we use k-fold cross-validation. In the k-fold cross-validation, we divide the data into k subsets of equal size. We build models times, each time leaving out one of the subsets from training and use it as the test set."
   ]
  },
  {
   "cell_type": "code",
   "execution_count": 145,
   "metadata": {},
   "outputs": [
    {
     "name": "stdout",
     "output_type": "stream",
     "text": [
      "Average coefficient of determination using 5-fold cross-validation: 0.7224544103938622\n"
     ]
    }
   ],
   "source": [
    "from sklearn.model_selection import cross_val_score\n",
    "scores = cross_val_score(RfModel, X_train, y_train, cv=5)\n",
    "print(\"Average coefficient of determination using 5-fold cross-validation:\",np.mean(scores))"
   ]
  },
  {
   "cell_type": "markdown",
   "metadata": {},
   "source": [
    "#### Training the models and predicting on the test data set using Gradient Boosting"
   ]
  },
  {
   "cell_type": "code",
   "execution_count": 146,
   "metadata": {},
   "outputs": [],
   "source": [
    "# training GB with default settings\n",
    "from sklearn import ensemble\n",
    "from sklearn.ensemble import GradientBoostingRegressor\n",
    "GDR_model = ensemble.GradientBoostingRegressor()\n",
    "# fitting the model\n",
    "GDR_model.fit(X_train, y_train)\n",
    "# predicting\n",
    "y_pred_GDR = GDR_model.predict(X_test)"
   ]
  },
  {
   "cell_type": "markdown",
   "metadata": {},
   "source": [
    "#### Evaluating the performance of the Models for Gradient Boosting Model"
   ]
  },
  {
   "cell_type": "code",
   "execution_count": 147,
   "metadata": {},
   "outputs": [
    {
     "name": "stdout",
     "output_type": "stream",
     "text": [
      "Mean Absolute Error: 90.02309699723467\n",
      "Mean Squared Error: 88856.49043497344\n",
      "Root Mean Squared Error: 298.0880581891422\n",
      "Gradient Boosting R squared\": 0.7646\n"
     ]
    }
   ],
   "source": [
    "from sklearn.metrics import accuracy_score, precision_score, recall_score, f1_score\n",
    "from sklearn.metrics import roc_curve, auc, confusion_matrix, classification_report\n",
    "from sklearn import metrics\n",
    "\n",
    "# model_mse = mean_squared_error(y_pred_GDR, y_test)\n",
    "# model_rmse = np.sqrt(model_mse)\n",
    "# Mean absolute error(ME)\n",
    "print('Mean Absolute Error:', metrics.mean_absolute_error(y_test, y_pred_GDR))  \n",
    "# MSE\n",
    "print('Mean Squared Error:', metrics.mean_squared_error(y_test, y_pred_GDR))  \n",
    "#RMSE\n",
    "print('Root Mean Squared Error:', np.sqrt(metrics.mean_squared_error(y_test, y_pred_GDR)))\n",
    "\n",
    "# let's check r^2\n",
    "print('Gradient Boosting R squared\": %.4f' % GDR_model.score(X_test, y_test))"
   ]
  },
  {
   "cell_type": "code",
   "execution_count": 148,
   "metadata": {},
   "outputs": [
    {
     "name": "stdout",
     "output_type": "stream",
     "text": [
      "Average coefficient of determination using 5-fold cross-validation: 0.705822997299747\n"
     ]
    }
   ],
   "source": [
    "from sklearn.model_selection import cross_val_score\n",
    "scores = cross_val_score(GDR_model, X_train, y_train, cv=5)\n",
    "print(\"Average coefficient of determination using 5-fold cross-validation:\",np.mean(scores))"
   ]
  },
  {
   "cell_type": "code",
   "execution_count": 149,
   "metadata": {},
   "outputs": [
    {
     "data": {
      "image/png": "[encoded data removed]",
      "text/plain": [
       "<Figure size 432x288 with 1 Axes>"
      ]
     },
     "metadata": {
      "needs_background": "light"
     },
     "output_type": "display_data"
    }
   ],
   "source": [
    "# Finding the most important features\n",
    "# storing all feature names\n",
    "feature_names = finaldf.columns[1:]\n",
    "#feature_names\n",
    "importances = GDR_model.feature_importances_\n",
    "indices = np.argsort(importances)[-9:]  # top 10 features\n",
    "plt.title('Feature Importances')\n",
    "plt.barh(range(len(indices)), importances[indices], color='b', align='center')\n",
    "plt.yticks(range(len(indices)), [feature_names[i] for i in indices])\n",
    "plt.xlabel('Relative Importance')\n",
    "plt.show()"
   ]
  },
  {
   "cell_type": "markdown",
   "metadata": {},
   "source": [
    "#### Dimension deduction"
   ]
  },
  {
   "cell_type": "code",
   "execution_count": 152,
   "metadata": {},
   "outputs": [
    {
     "data": {
      "text/html": [
       "<div>\n",
       "<style scoped>\n",
       "    .dataframe tbody tr th:only-of-type {\n",
       "        vertical-align: middle;\n",
       "    }\n",
       "\n",
       "    .dataframe tbody tr th {\n",
       "        vertical-align: top;\n",
       "    }\n",
       "\n",
       "    .dataframe thead th {\n",
       "        text-align: right;\n",
       "    }\n",
       "</style>\n",
       "<table border=\"1\" class=\"dataframe\">\n",
       "  <thead>\n",
       "    <tr style=\"text-align: right;\">\n",
       "      <th></th>\n",
       "      <th>Ship Mode</th>\n",
       "      <th>Segment</th>\n",
       "      <th>Region</th>\n",
       "      <th>Category</th>\n",
       "      <th>Sub-Category</th>\n",
       "      <th>Sales</th>\n",
       "      <th>Quantity</th>\n",
       "      <th>Discount</th>\n",
       "      <th>Profit</th>\n",
       "    </tr>\n",
       "  </thead>\n",
       "  <tbody>\n",
       "    <tr>\n",
       "      <td>0</td>\n",
       "      <td>Second Class</td>\n",
       "      <td>Consumer</td>\n",
       "      <td>South</td>\n",
       "      <td>Furniture</td>\n",
       "      <td>Bookcases</td>\n",
       "      <td>261.9600</td>\n",
       "      <td>2</td>\n",
       "      <td>0.00</td>\n",
       "      <td>41.9136</td>\n",
       "    </tr>\n",
       "    <tr>\n",
       "      <td>1</td>\n",
       "      <td>Second Class</td>\n",
       "      <td>Consumer</td>\n",
       "      <td>South</td>\n",
       "      <td>Furniture</td>\n",
       "      <td>Chairs</td>\n",
       "      <td>731.9400</td>\n",
       "      <td>3</td>\n",
       "      <td>0.00</td>\n",
       "      <td>219.5820</td>\n",
       "    </tr>\n",
       "    <tr>\n",
       "      <td>2</td>\n",
       "      <td>Second Class</td>\n",
       "      <td>Corporate</td>\n",
       "      <td>West</td>\n",
       "      <td>Office Supplies</td>\n",
       "      <td>Labels</td>\n",
       "      <td>14.6200</td>\n",
       "      <td>2</td>\n",
       "      <td>0.00</td>\n",
       "      <td>6.8714</td>\n",
       "    </tr>\n",
       "    <tr>\n",
       "      <td>3</td>\n",
       "      <td>Standard Class</td>\n",
       "      <td>Consumer</td>\n",
       "      <td>South</td>\n",
       "      <td>Furniture</td>\n",
       "      <td>Tables</td>\n",
       "      <td>957.5775</td>\n",
       "      <td>5</td>\n",
       "      <td>0.45</td>\n",
       "      <td>-383.0310</td>\n",
       "    </tr>\n",
       "    <tr>\n",
       "      <td>4</td>\n",
       "      <td>Standard Class</td>\n",
       "      <td>Consumer</td>\n",
       "      <td>South</td>\n",
       "      <td>Office Supplies</td>\n",
       "      <td>Storage</td>\n",
       "      <td>22.3680</td>\n",
       "      <td>2</td>\n",
       "      <td>0.20</td>\n",
       "      <td>2.5164</td>\n",
       "    </tr>\n",
       "  </tbody>\n",
       "</table>\n",
       "</div>"
      ],
      "text/plain": [
       "        Ship Mode    Segment Region         Category Sub-Category     Sales  \\\n",
       "0    Second Class   Consumer  South        Furniture    Bookcases  261.9600   \n",
       "1    Second Class   Consumer  South        Furniture       Chairs  731.9400   \n",
       "2    Second Class  Corporate   West  Office Supplies       Labels   14.6200   \n",
       "3  Standard Class   Consumer  South        Furniture       Tables  957.5775   \n",
       "4  Standard Class   Consumer  South  Office Supplies      Storage   22.3680   \n",
       "\n",
       "   Quantity  Discount    Profit  \n",
       "0         2      0.00   41.9136  \n",
       "1         3      0.00  219.5820  \n",
       "2         2      0.00    6.8714  \n",
       "3         5      0.45 -383.0310  \n",
       "4         2      0.20    2.5164  "
      ]
     },
     "execution_count": 152,
     "metadata": {},
     "output_type": "execute_result"
    }
   ],
   "source": [
    "# now let's drop city ,state and profit/loss\n",
    "Reduceddf = finaldf.drop(['City','State'], axis=1)\n",
    "Reduceddf.head()"
   ]
  },
  {
   "cell_type": "markdown",
   "metadata": {},
   "source": [
    "#### Part-2 Performing data transformation for reduced data frame:\n",
    "##### categorical variables will have multiple columns based on number of class"
   ]
  },
  {
   "cell_type": "code",
   "execution_count": 153,
   "metadata": {},
   "outputs": [],
   "source": [
    "for col in Reduceddf.columns:\n",
    "\tattName = col\n",
    "\tdType = Reduceddf[col].dtype\n",
    "\tmissing = pd.isnull(Reduceddf[col]).any()\n",
    "\tuniqueCount = len(Reduceddf[attName].value_counts(normalize=False))\n",
    "\t# discretize (create dummies)\n",
    "\tif dType == object:\n",
    "\t\tReduceddf = pd.concat([Reduceddf, pd.get_dummies(Reduceddf[col], prefix=col)], axis=1)\n",
    "\t\tdel Reduceddf[attName]"
   ]
  },
  {
   "cell_type": "code",
   "execution_count": 154,
   "metadata": {},
   "outputs": [],
   "source": [
    "from sklearn.model_selection import train_test_split\n",
    "# splitting dataset into testing and training\n",
    "XR_train, XR_test, yr_train, yr_test = train_test_split(\n",
    "    Reduceddf.iloc[:,1:].values, Reduceddf.iloc[:,0].values, test_size=0.30, random_state=4)"
   ]
  },
  {
   "cell_type": "code",
   "execution_count": 155,
   "metadata": {},
   "outputs": [
    {
     "data": {
      "text/plain": [
       "(9994, 35)"
      ]
     },
     "execution_count": 155,
     "metadata": {},
     "output_type": "execute_result"
    }
   ],
   "source": [
    "# checking dimension of the dataframe(rows & columns) \n",
    "Reduceddf.shape\n",
    "# checking all columns and their data types\n",
    "# Reduceddf.dtypes"
   ]
  },
  {
   "cell_type": "markdown",
   "metadata": {},
   "source": [
    "#### Checking the datasets' dimension"
   ]
  },
  {
   "cell_type": "code",
   "execution_count": 156,
   "metadata": {},
   "outputs": [
    {
     "name": "stdout",
     "output_type": "stream",
     "text": [
      "(6995, 34)\n",
      "(6995,)\n",
      "(2999, 34)\n",
      "(2999,)\n"
     ]
    }
   ],
   "source": [
    "# training data set\n",
    "print(XR_train.shape)\n",
    "# training target data set\n",
    "print(y_train.shape)\n",
    "# testing data set\n",
    "print(XR_test.shape)\n",
    "# testing target data set\n",
    "print(yr_test.shape)"
   ]
  },
  {
   "cell_type": "markdown",
   "metadata": {},
   "source": [
    "#### Training, testing and evaluating the Linear Regression model for Reduced data set"
   ]
  },
  {
   "cell_type": "code",
   "execution_count": 157,
   "metadata": {},
   "outputs": [
    {
     "name": "stdout",
     "output_type": "stream",
     "text": [
      "Mean Absolute Error: 187.29641052466516\n",
      "Mean Squared Error: 189815.4424715982\n",
      "Root Mean Squared Error: 435.67814091551367\n",
      "Linear regression R-squared\": 0.4971\n"
     ]
    }
   ],
   "source": [
    "# Linear Regression\n",
    "from sklearn.linear_model import LinearRegression\n",
    "# instantiating\n",
    "lin_reg = LinearRegression()\n",
    "# fitting\n",
    "lin_reg.fit(XR_train, y_train)\n",
    "# predicting\n",
    "yr_pred = lin_reg.predict(XR_test)\n",
    "# Mean absolute error(ME)\n",
    "print('Mean Absolute Error:', metrics.mean_absolute_error(yr_test, yr_pred))  \n",
    "# MSE\n",
    "print('Mean Squared Error:', metrics.mean_squared_error(yr_test, yr_pred))  \n",
    "#RMSE\n",
    "print('Root Mean Squared Error:', np.sqrt(metrics.mean_squared_error(yr_test, yr_pred)))\n",
    "\n",
    "# let's check r^2\n",
    "print('Linear regression R-squared\": %.4f' % lin_reg.score(XR_test, yr_test))"
   ]
  },
  {
   "cell_type": "markdown",
   "metadata": {},
   "source": [
    "#### Training, testing and evaluating the Random Forest model for Reduced data set"
   ]
  },
  {
   "cell_type": "code",
   "execution_count": 158,
   "metadata": {},
   "outputs": [
    {
     "name": "stdout",
     "output_type": "stream",
     "text": [
      "Mean Absolute Error: 83.83355065658674\n",
      "Mean Squared Error: 107152.55436718682\n",
      "Root Mean Squared Error: 327.34164777367823\n",
      "Random Forest R squared\": 0.7161\n"
     ]
    }
   ],
   "source": [
    "# Let's try Random Forest model\n",
    "from sklearn.ensemble import RandomForestRegressor\n",
    "from sklearn import metrics\n",
    "RfModel = RandomForestRegressor(random_state=1, max_depth=10)\n",
    "# fitting the model\n",
    "RfModel.fit(XR_train,yr_train)\n",
    "# make predictions\n",
    "yr_pred = RfModel.predict(XR_test)\n",
    "# Mean absolute error(ME)\n",
    "print('Mean Absolute Error:', metrics.mean_absolute_error(yr_test, yr_pred))  \n",
    "# MSE\n",
    "print('Mean Squared Error:', metrics.mean_squared_error(yr_test, yr_pred))  \n",
    "#RMSE\n",
    "print('Root Mean Squared Error:', np.sqrt(metrics.mean_squared_error(yr_test, yr_pred)))\n",
    "\n",
    "# let's check r^2\n",
    "print('Random Forest R squared\": %.4f' % RfModel.score(XR_test, yr_test))"
   ]
  },
  {
   "cell_type": "code",
   "execution_count": 159,
   "metadata": {},
   "outputs": [
    {
     "data": {
      "image/png": "[encoded data removed]",
      "text/plain": [
       "<Figure size 432x288 with 1 Axes>"
      ]
     },
     "metadata": {
      "needs_background": "light"
     },
     "output_type": "display_data"
    }
   ],
   "source": [
    "# Finding the most important features\n",
    "# storing all feature names\n",
    "feature_names = Reduceddf.columns[1:]\n",
    "# feature_names\n",
    "importances = RfModel.feature_importances_\n",
    "indices = np.argsort(importances) [-9:]  # top 10 features\n",
    "# indices[:10]\n",
    "plt.title('Feature Importances')\n",
    "plt.barh(range(len(indices)), importances[indices], color='b', align='center')\n",
    "plt.yticks(range(len(indices)), [feature_names[i] for i in indices])\n",
    "plt.xlabel('Relative Importance')\n",
    "plt.show()"
   ]
  },
  {
   "cell_type": "markdown",
   "metadata": {},
   "source": [
    "#### Training, testing and evaluating the Gradient Boosting model for Reduced data set"
   ]
  },
  {
   "cell_type": "code",
   "execution_count": 160,
   "metadata": {},
   "outputs": [
    {
     "data": {
      "text/plain": [
       "GradientBoostingRegressor()"
      ]
     },
     "execution_count": 160,
     "metadata": {},
     "output_type": "execute_result"
    }
   ],
   "source": [
    "# training Gradient Boosting with default settings\n",
    "from sklearn import ensemble\n",
    "from sklearn.ensemble import GradientBoostingRegressor\n",
    "GDR_model = ensemble.GradientBoostingRegressor()\n",
    "GDR_model.fit(XR_train, yr_train)"
   ]
  },
  {
   "cell_type": "code",
   "execution_count": 161,
   "metadata": {},
   "outputs": [
    {
     "name": "stdout",
     "output_type": "stream",
     "text": [
      "Mean Absolute Error: 89.59555764183953\n",
      "Mean Squared Error: 122456.89113441098\n",
      "Root Mean Squared Error: 349.938410487347\n",
      "Gradient Boosting R squared\": 0.6756\n"
     ]
    }
   ],
   "source": [
    "yr_pred_GDR = GDR_model.predict(XR_test)\n",
    "# Mean absolute error(ME)\n",
    "print('Mean Absolute Error:', metrics.mean_absolute_error(yr_test, yr_pred_GDR))  \n",
    "# MSE\n",
    "print('Mean Squared Error:', metrics.mean_squared_error(yr_test, yr_pred_GDR))  \n",
    "#RMSE\n",
    "print('Root Mean Squared Error:', np.sqrt(metrics.mean_squared_error(yr_test, yr_pred_GDR)))\n",
    "\n",
    "# let's check r^2\n",
    "print('Gradient Boosting R squared\": %.4f' % GDR_model.score(XR_test, yr_test))"
   ]
  },
  {
   "cell_type": "code",
   "execution_count": 162,
   "metadata": {},
   "outputs": [
    {
     "data": {
      "image/png": "[encoded data removed]",
      "text/plain": [
       "<Figure size 432x288 with 1 Axes>"
      ]
     },
     "metadata": {
      "needs_background": "light"
     },
     "output_type": "display_data"
    }
   ],
   "source": [
    "# Finding the most important features\n",
    "# storing all feature names\n",
    "feature_names = Reduceddf.columns[1:]\n",
    "#feature_names\n",
    "importances = GDR_model.feature_importances_\n",
    "indices = np.argsort(importances)[-9:]  # top 10 features\n",
    "plt.title('Feature Importances')\n",
    "plt.barh(range(len(indices)), importances[indices], color='b', align='center')\n",
    "plt.yticks(range(len(indices)), [feature_names[i] for i in indices])\n",
    "plt.xlabel('Relative Importance')\n",
    "plt.show()"
   ]
  },
  {
   "cell_type": "markdown",
   "metadata": {},
   "source": [
    "### Summary & Conclusion:\n",
    "I have analyzed superstore data to explore relationship between variables, find patterns and discover insights to optimize our sales process besides keeping our forecasted profit.\n",
    "\n",
    "After understanding the data, I have excluded few variables from the analysis because they were non-informative such as all ID columns while few variables (customer name, product name and dates) were dropped to keep the simplicity and focus on important predictors or features that helps in predicting Sales based on my instinct after exploratory data analysis which included statistical testing.\n",
    "\n",
    "Three predictive models have been presented for the final dataframe: Most basic linear regression, Random Forest and Gradient Boosting. \n",
    "\n",
    "After running these three training models and evaluating the testing model for both final and reduced dataframes, R^2 looked promising for Random Forest model based on the logic of \"Select either a high R2 or a low MSE\". (https://stats.stackexchange.com/questions/100281/selecting-the-best-model-using-cross-validation-on-coefficient-of-determination )\n",
    "\n",
    "We can see that 49% of the variability in Y can be explained using X if we use linear regression model whereas 78% of the variability in Y can be explained using X if we use Random Forest model.\n",
    "But since random forest is known for overfitting, I tried gradient boosting (another ensemble model) and here, 66% of the variability in Y can be explained using X. But, Mean Squared Error(MSE) value  is lowest in Random Forest model as compared all other models and we know that the smaller MSE is, the closer the model prediction is to the actual data. So basically, either a high R2 or a low MSE. (https://stats.stackexchange.com/questions/32596/what-is-the-difference-between-coefficient-of-determination-and-mean-squared)\n",
    "\n",
    "Therefore, I'll select Random Forest Model as my best model and thus important features are Profit, city, discount, state, sub category, quantity,category, and segment!\n",
    "\n",
    "Further discussion could involve how we plan our important variables to keep our supplies in the segments, category, sub-categories and concentrate city & state based factors to increase our orders, sales, profit by providing optimal ratio of quantity & discount.  "
   ]
  },
  {
   "cell_type": "markdown",
   "metadata": {},
   "source": [
    "###                               **** ***************************************************       The End With New Begining In sight!!! ****************************************"
   ]
  }
 ],
 "metadata": {
  "kernelspec": {
   "display_name": "Python 3",
   "language": "python",
   "name": "python3"
  },
  "language_info": {
   "codemirror_mode": {
    "name": "ipython",
    "version": 3
   },
   "file_extension": ".py",
   "mimetype": "text/x-python",
   "name": "python",
   "nbconvert_exporter": "python",
   "pygments_lexer": "ipython3",
   "version": "3.7.4"
  }
 },
 "nbformat": 4,
 "nbformat_minor": 2
}